{
 "cells": [
  {
   "cell_type": "code",
   "execution_count": 13,
   "metadata": {},
   "outputs": [],
   "source": [
    "#return the index of a sorted array element. Binary Search\n",
    "\n",
    "def bin_search(x,i):\n",
    "    low = 0\n",
    "    high = len(x)-1\n",
    "    while low <= high:\n",
    "        mid = (low+high) // 2\n",
    "        guess = x[mid]\n",
    "        if guess == i:\n",
    "            return mid\n",
    "        elif guess > i:\n",
    "            high = mid - 1\n",
    "        else:\n",
    "            low = mid + 1\n",
    "        return None\n",
    "    "
   ]
  },
  {
   "cell_type": "code",
   "execution_count": 14,
   "metadata": {},
   "outputs": [
    {
     "name": "stdout",
     "output_type": "stream",
     "text": [
      "The index of the element is: 4\n"
     ]
    }
   ],
   "source": [
    "l = sorted([1,2,3,4,6,7,8,9,5,10])\n",
    "\n",
    "search = bin_search(l,5)\n",
    "print(\"The index of the element is: {}\".format(search))"
   ]
  },
  {
   "cell_type": "code",
   "execution_count": null,
   "metadata": {},
   "outputs": [],
   "source": []
  }
 ],
 "metadata": {
  "kernelspec": {
   "display_name": "Python 3",
   "language": "python",
   "name": "python3"
  },
  "language_info": {
   "codemirror_mode": {
    "name": "ipython",
    "version": 3
   },
   "file_extension": ".py",
   "mimetype": "text/x-python",
   "name": "python",
   "nbconvert_exporter": "python",
   "pygments_lexer": "ipython3",
   "version": "3.7.4"
  }
 },
 "nbformat": 4,
 "nbformat_minor": 2
}
