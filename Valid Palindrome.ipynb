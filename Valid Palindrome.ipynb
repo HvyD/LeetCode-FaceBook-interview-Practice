{
 "cells": [
  {
   "cell_type": "markdown",
   "metadata": {},
   "source": [
    "Given a string, determine if it is a palindrome, considering only alphanumeric characters and ignoring cases.\n",
    "\n",
    "Note: For the purpose of this problem, we define empty string as valid palindrome.\n",
    "\n",
    "<b>Example 1:</b>"
   ]
  },
  {
   "cell_type": "raw",
   "metadata": {},
   "source": [
    "Input: \"A man, a plan, a canal: Panama\"\n",
    "Output: true"
   ]
  },
  {
   "cell_type": "markdown",
   "metadata": {},
   "source": [
    "<b>Example 2:</b>"
   ]
  },
  {
   "cell_type": "raw",
   "metadata": {},
   "source": [
    "Input: \"race a car\"\n",
    "Output: false"
   ]
  },
  {
   "cell_type": "code",
   "execution_count": 1,
   "metadata": {},
   "outputs": [],
   "source": [
    "class Solution:\n",
    "    def isPalindrome(self, s: str) -> bool:\n",
    "    \ts = [i for i in s.lower() if i.isalnum()]\n",
    "    \treturn s == s[::-1]"
   ]
  },
  {
   "cell_type": "code",
   "execution_count": 2,
   "metadata": {},
   "outputs": [],
   "source": [
    "def isPalindrome(s):\n",
    "    s = [i for i in s.lower() if i.isalnum()]\n",
    "    return s == s[::-1]"
   ]
  },
  {
   "cell_type": "code",
   "execution_count": 3,
   "metadata": {},
   "outputs": [
    {
     "data": {
      "text/plain": [
       "True"
      ]
     },
     "execution_count": 3,
     "metadata": {},
     "output_type": "execute_result"
    }
   ],
   "source": [
    "s = \"A man, a plan, a canal: Panama\"\n",
    "isPalindrome(s)"
   ]
  },
  {
   "cell_type": "code",
   "execution_count": null,
   "metadata": {},
   "outputs": [],
   "source": []
  }
 ],
 "metadata": {
  "kernelspec": {
   "display_name": "Python 3",
   "language": "python",
   "name": "python3"
  },
  "language_info": {
   "codemirror_mode": {
    "name": "ipython",
    "version": 3
   },
   "file_extension": ".py",
   "mimetype": "text/x-python",
   "name": "python",
   "nbconvert_exporter": "python",
   "pygments_lexer": "ipython3",
   "version": "3.7.4"
  }
 },
 "nbformat": 4,
 "nbformat_minor": 2
}
