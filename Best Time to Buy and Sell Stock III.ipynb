{
 "cells": [
  {
   "cell_type": "markdown",
   "metadata": {},
   "source": [
    "Say you have an array for which the ith element is the price of a given stock on day i.\n",
    "\n",
    "Design an algorithm to find the maximum profit. You may complete at most two transactions.\n",
    "\n",
    "Note: You may not engage in multiple transactions at the same time (i.e., you must sell the stock before you buy again).\n",
    "\n",
    "#### Example 1:"
   ]
  },
  {
   "cell_type": "raw",
   "metadata": {},
   "source": [
    "Input: [3,3,5,0,0,3,1,4]\n",
    "Output: 6\n",
    "Explanation: Buy on day 4 (price = 0) and sell on day 6 (price = 3), profit = 3-0 = 3.\n",
    "             Then buy on day 7 (price = 1) and sell on day 8 (price = 4), profit = 4-1 = 3."
   ]
  },
  {
   "cell_type": "markdown",
   "metadata": {},
   "source": [
    "#### Example 2:"
   ]
  },
  {
   "cell_type": "raw",
   "metadata": {},
   "source": [
    "Input: [1,2,3,4,5]\n",
    "Output: 4\n",
    "Explanation: Buy on day 1 (price = 1) and sell on day 5 (price = 5), profit = 5-1 = 4.\n",
    "             Note that you cannot buy on day 1, buy on day 2 and sell them later, as you are\n",
    "             engaging multiple transactions at the same time. You must sell before buying again."
   ]
  },
  {
   "cell_type": "markdown",
   "metadata": {},
   "source": [
    "#### Example 3:"
   ]
  },
  {
   "cell_type": "raw",
   "metadata": {},
   "source": [
    "Input: [7,6,4,3,1]\n",
    "Output: 0\n",
    "Explanation: In this case, no transaction is done, i.e. max profit = 0."
   ]
  },
  {
   "cell_type": "code",
   "execution_count": null,
   "metadata": {},
   "outputs": [],
   "source": [
    "class Solution:\n",
    "    def maxProfit(self, prices: List[int]) -> int:\n",
    "        buy1 = buy2 = float('-inf') # the money we have after we buy 1st stock and 2nd stock\n",
    "        sell1=sell2=0                 # the money we have after we sell 1st stock and 2nd stock\n",
    "        for p in prices:                       # we have no money at first\n",
    "            # for each price p, we have 4 choices.\n",
    "            buy1 = max(buy1,-p)          # buy 1st stock now or before\n",
    "            sell1 = max(sell1,buy1+p)  # sell 1st stock now or before\n",
    "            buy2 = max(buy2,sell1-p)  # buy 2nd stock now or before\n",
    "            sell2 = max(sell2,buy2+p)  # sell 2nd stock now or before\n",
    "        return sell2"
   ]
  }
 ],
 "metadata": {
  "kernelspec": {
   "display_name": "Python 3",
   "language": "python",
   "name": "python3"
  },
  "language_info": {
   "codemirror_mode": {
    "name": "ipython",
    "version": 3
   },
   "file_extension": ".py",
   "mimetype": "text/x-python",
   "name": "python",
   "nbconvert_exporter": "python",
   "pygments_lexer": "ipython3",
   "version": "3.7.4"
  }
 },
 "nbformat": 4,
 "nbformat_minor": 2
}
