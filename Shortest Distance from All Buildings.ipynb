{
 "cells": [
  {
   "cell_type": "markdown",
   "metadata": {},
   "source": [
    "You want to build a house on an empty land which reaches all buildings in the shortest amount of distance. You can only move up, down, left and right. You are given a 2D grid of values 0, 1 or 2, where:\n",
    "\n",
    "    Each 0 marks an empty land which you can pass by freely.\n",
    "    Each 1 marks a building which you cannot pass through.\n",
    "    Each 2 marks an obstacle which you cannot pass through.\n",
    "\n",
    "#### Example:"
   ]
  },
  {
   "cell_type": "raw",
   "metadata": {},
   "source": [
    "Input: [[1,0,2,0,1],[0,0,0,0,0],[0,0,1,0,0]]\n",
    "\n",
    "1 - 0 - 2 - 0 - 1\n",
    "|   |   |   |   |\n",
    "0 - 0 - 0 - 0 - 0\n",
    "|   |   |   |   |\n",
    "0 - 0 - 1 - 0 - 0\n",
    "\n",
    "Output: 7 \n",
    "\n",
    "Explanation: Given three buildings at (0,0), (0,4), (2,2), and an obstacle at (0,2),\n",
    "             the point (1,2) is an ideal empty land to build a house, as the total \n",
    "             travel distance of 3+3+1=7 is minimal. So return 7."
   ]
  },
  {
   "cell_type": "markdown",
   "metadata": {},
   "source": [
    "#### Note:\n",
    "There will be at least one building. If it is not possible to build such house according to the above rules, return -1."
   ]
  },
  {
   "cell_type": "code",
   "execution_count": 9,
   "metadata": {},
   "outputs": [],
   "source": [
    "import sys, collections\n",
    "\n",
    "class Solution:\n",
    "    def shortestDistance(grid):\n",
    "        if len(grid) == 0 or len(grid[0]) == 0: return 0\n",
    "        row, column = len(grid), len(grid[0])\n",
    "        dist = [[0] * column for _ in range(row)]\n",
    "        builds = []\n",
    "        for i in range(row):\n",
    "            for j in range(column):\n",
    "                if grid[i][j] == 1:\n",
    "                    builds.append((i, j, 0))\n",
    "        cnt_builds = len(builds)\n",
    "        step = 0\n",
    "        ans = sys.maxsize\n",
    "        for a, b, dis in builds:\n",
    "            q = collections.deque([(a, b, dis)])\n",
    "            while q:\n",
    "                a, b, dis = q.popleft()\n",
    "                for x, y in [(a + 1, b), (a - 1, b), (a, b + 1), (a, b - 1)]:\n",
    "                    if 0 <= x < row and 0 <= y < column and grid[x][y] == step:\n",
    "                        grid[x][y] = step - 1\n",
    "                        dist[x][y] += dis + 1\n",
    "                        if -step + 1 == cnt_builds: ans = min(ans, dist[x][y])\n",
    "                        q.append((x, y, dis + 1))\n",
    "            step -= 1\n",
    "        return ans if ans != sys.maxsize else -1"
   ]
  },
  {
   "cell_type": "code",
   "execution_count": 10,
   "metadata": {},
   "outputs": [
    {
     "data": {
      "text/plain": [
       "7"
      ]
     },
     "execution_count": 10,
     "metadata": {},
     "output_type": "execute_result"
    }
   ],
   "source": [
    "grid = [[1,0,2,0,1],[0,0,0,0,0],[0,0,1,0,0]]\n",
    "\n",
    "Solution.shortestDistance(grid)"
   ]
  },
  {
   "cell_type": "code",
   "execution_count": null,
   "metadata": {},
   "outputs": [],
   "source": []
  }
 ],
 "metadata": {
  "kernelspec": {
   "display_name": "Python 3",
   "language": "python",
   "name": "python3"
  },
  "language_info": {
   "codemirror_mode": {
    "name": "ipython",
    "version": 3
   },
   "file_extension": ".py",
   "mimetype": "text/x-python",
   "name": "python",
   "nbconvert_exporter": "python",
   "pygments_lexer": "ipython3",
   "version": "3.7.4"
  }
 },
 "nbformat": 4,
 "nbformat_minor": 2
}
