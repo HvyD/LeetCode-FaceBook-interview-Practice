{
 "cells": [
  {
   "cell_type": "markdown",
   "metadata": {},
   "source": [
    "Given a file and assume that you can only read the file using a given method read4, implement a method to read n characters.\n",
    "\n",
    " \n",
    "\n",
    "### Method read4:\n",
    "\n",
    "The API read4 reads 4 consecutive characters from the file, then writes those characters into the buffer array buf.\n",
    "\n",
    "The return value is the number of actual characters read.\n",
    "\n",
    "Note that read4() has its own file pointer, much like FILE *fp in C.\n",
    "\n",
    "### Definition of read4:"
   ]
  },
  {
   "cell_type": "raw",
   "metadata": {},
   "source": [
    "Parameter:  char[] buf\n",
    "    Returns:    int\n",
    "\n",
    "Note: buf[] is destination not source, the results from read4 will be copied to buf[]"
   ]
  },
  {
   "cell_type": "markdown",
   "metadata": {},
   "source": [
    "Below is a high level example of how read4 works:"
   ]
  },
  {
   "cell_type": "raw",
   "metadata": {},
   "source": [
    "# File file(\"abcdefghijk\"); // File is \"abcdefghijk\", initially file pointer (fp) points to 'a'\n",
    "char[] buf = new char[4]; // Create buffer with enough space to store characters\n",
    "read4(buf); // read4 returns 4. Now buf = \"abcd\", fp points to 'e'\n",
    "read4(buf); // read4 returns 4. Now buf = \"efgh\", fp points to 'i'\n",
    "read4(buf); // read4 returns 3. Now buf = \"ijk\", fp points to end of file"
   ]
  },
  {
   "cell_type": "markdown",
   "metadata": {},
   "source": [
    "### Method read:\n",
    "\n",
    "By using the read4 method, implement the method read that reads n characters from the file and store it in the buffer array buf. Consider that you cannot manipulate the file directly.\n",
    "\n",
    "The return value is the number of actual characters read.\n",
    "\n",
    "### Definition of read:"
   ]
  },
  {
   "cell_type": "raw",
   "metadata": {},
   "source": [
    "  Parameters:\tchar[] buf, int n\n",
    "    Returns:\tint\n",
    "\n",
    "Note: buf[] is destination not source, you will need to write the results to buf[]"
   ]
  },
  {
   "cell_type": "markdown",
   "metadata": {},
   "source": [
    "### Example 1:"
   ]
  },
  {
   "cell_type": "raw",
   "metadata": {},
   "source": [
    "Input: file = \"abc\", n = 4\n",
    "Output: 3\n",
    "Explanation: After calling your read method, buf should contain \"abc\". We read a total of 3 characters from the file, so return 3. Note that \"abc\" is the file's content, not buf. buf is the destination buffer that you will have to write the results to."
   ]
  },
  {
   "cell_type": "markdown",
   "metadata": {},
   "source": [
    "### Example 2:"
   ]
  },
  {
   "cell_type": "raw",
   "metadata": {},
   "source": [
    "Input: file = \"abcde\", n = 5\n",
    "Output: 5\n",
    "Explanation: After calling your read method, buf should contain \"abcde\". We read a total of 5 characters from the file, so return 5."
   ]
  },
  {
   "cell_type": "markdown",
   "metadata": {},
   "source": [
    "### Example 3:"
   ]
  },
  {
   "cell_type": "raw",
   "metadata": {},
   "source": [
    "Input: file = \"abcdABCD1234\", n = 12\n",
    "Output: 12\n",
    "Explanation: After calling your read method, buf should contain \"abcdABCD1234\". We read a total of 12 characters from the file, so return 12."
   ]
  },
  {
   "cell_type": "markdown",
   "metadata": {},
   "source": [
    "### Example 4:"
   ]
  },
  {
   "cell_type": "raw",
   "metadata": {},
   "source": [
    "Input: file = \"leetcode\", n = 5\n",
    "Output: 5\n",
    "Explanation: After calling your read method, buf should contain \"leetc\". We read a total of 5 characters from the file, so return 5."
   ]
  },
  {
   "cell_type": "raw",
   "metadata": {},
   "source": [
    "Note:\n",
    "\n",
    "Consider that you cannot manipulate the file directly, the file is only accesible for read4 but not for read.\n",
    "The read function will only be called once for each test case.\n",
    "You may assume the destination buffer array, buf, is guaranteed to have enough space for storing n characters."
   ]
  },
  {
   "cell_type": "code",
   "execution_count": 1,
   "metadata": {},
   "outputs": [],
   "source": [
    "\"\"\"\n",
    "The read4 API is already defined for you.\n",
    "\n",
    "    @param buf, a list of characters\n",
    "    @return an integer\n",
    "    def read4(buf):\n",
    "\n",
    "# Below is an example of how the read4 API can be called.\n",
    "file = File(\"abcdefghijk\") # File is \"abcdefghijk\", initially file pointer (fp) points to 'a'\n",
    "buf = [' '] * 4 # Create buffer with enough space to store characters\n",
    "read4(buf) # read4 returns 4. Now buf = ['a','b','c','d'], fp points to 'e'\n",
    "read4(buf) # read4 returns 4. Now buf = ['e','f','g','h'], fp points to 'i'\n",
    "read4(buf) # read4 returns 3. Now buf = ['i','j','k',...], fp points to end of file\n",
    "\"\"\"\n",
    "class Solution(object):\n",
    "    def read(self, buf, n):\n",
    "        buf_local = []\n",
    "        p = 0\n",
    "        \n",
    "        while p < n:\n",
    "            buf4 = [\"\"]*4\n",
    "            ret = read4(buf4)\n",
    "            if ret == 0:\n",
    "                break\n",
    "            p += ret\n",
    "            buf_local += buf4\n",
    "\n",
    "        buf_local = buf_local[:n]\n",
    "        \n",
    "        for i,b in enumerate(buf_local):\n",
    "            buf[i] = b\n",
    "        \n",
    "        return len(buf_local)"
   ]
  },
  {
   "cell_type": "code",
   "execution_count": null,
   "metadata": {},
   "outputs": [],
   "source": []
  }
 ],
 "metadata": {
  "kernelspec": {
   "display_name": "Python 3",
   "language": "python",
   "name": "python3"
  },
  "language_info": {
   "codemirror_mode": {
    "name": "ipython",
    "version": 3
   },
   "file_extension": ".py",
   "mimetype": "text/x-python",
   "name": "python",
   "nbconvert_exporter": "python",
   "pygments_lexer": "ipython3",
   "version": "3.7.4"
  }
 },
 "nbformat": 4,
 "nbformat_minor": 2
}
