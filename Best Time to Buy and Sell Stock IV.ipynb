{
 "cells": [
  {
   "cell_type": "markdown",
   "metadata": {},
   "source": [
    "Say you have an array for which the i-th element is the price of a given stock on day i.\n",
    "\n",
    "Design an algorithm to find the maximum profit. You may complete at most k transactions.\n",
    "\n",
    "#### Note:\n",
    "    You may not engage in multiple transactions at the same time (ie, you must sell the stock before you buy again).\n",
    "\n",
    "#### Example 1:"
   ]
  },
  {
   "cell_type": "raw",
   "metadata": {},
   "source": [
    "Input: [2,4,1], k = 2\n",
    "Output: 2\n",
    "\n",
    "Explanation: Buy on day 1 (price = 2) and sell on day 2 (price = 4), profit = 4-2 = 2."
   ]
  },
  {
   "cell_type": "markdown",
   "metadata": {},
   "source": [
    "#### Example 2:"
   ]
  },
  {
   "cell_type": "raw",
   "metadata": {},
   "source": [
    "Input: [3,2,6,5,0,3], k = 2\n",
    "Output: 7\n",
    "\n",
    "Explanation: Buy on day 2 (price = 2) and sell on day 3 (price = 6), profit = 6-2 = 4.\n",
    "             Then buy on day 5 (price = 0) and sell on day 6 (price = 3), profit = 3-0 = 3."
   ]
  },
  {
   "cell_type": "code",
   "execution_count": 10,
   "metadata": {},
   "outputs": [],
   "source": [
    "class Solution:\n",
    "    def maxProfit(self, k, prices):\n",
    "        if k > len(prices) >> 1: \n",
    "            return sum(prices[i+1]-prices[i] for i in range(len(prices)-1) if prices[i+1]>prices[i])\n",
    "        \n",
    "        sell = [0]*(k+1)\n",
    "        buy = [float('inf')]*(k+1)\n",
    "        for x in prices:\n",
    "            for y in range(1, k+1):\n",
    "                buy[y] = min((x - sell[y-1]), buy[y])\n",
    "                sell[y] = max(sell[y], (x-buy[y]))\n",
    "        return sell[k]"
   ]
  },
  {
   "cell_type": "code",
   "execution_count": null,
   "metadata": {},
   "outputs": [],
   "source": []
  }
 ],
 "metadata": {
  "kernelspec": {
   "display_name": "Python 3",
   "language": "python",
   "name": "python3"
  },
  "language_info": {
   "codemirror_mode": {
    "name": "ipython",
    "version": 3
   },
   "file_extension": ".py",
   "mimetype": "text/x-python",
   "name": "python",
   "nbconvert_exporter": "python",
   "pygments_lexer": "ipython3",
   "version": "3.7.4"
  }
 },
 "nbformat": 4,
 "nbformat_minor": 2
}
