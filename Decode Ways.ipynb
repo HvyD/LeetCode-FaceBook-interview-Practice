{
 "cells": [
  {
   "cell_type": "markdown",
   "metadata": {},
   "source": [
    "A message containing letters from A-Z is being encoded to numbers using the following mapping:"
   ]
  },
  {
   "cell_type": "raw",
   "metadata": {},
   "source": [
    "'A' -> 1\n",
    "'B' -> 2\n",
    "...\n",
    "'Z' -> 26"
   ]
  },
  {
   "cell_type": "markdown",
   "metadata": {},
   "source": [
    "Given a non-empty string containing only digits, determine the total number of ways to decode it."
   ]
  },
  {
   "cell_type": "markdown",
   "metadata": {},
   "source": [
    "#### Example 1:"
   ]
  },
  {
   "cell_type": "raw",
   "metadata": {},
   "source": [
    "Input: \"12\"\n",
    "Output: 2\n",
    "Explanation: It could be decoded as \"AB\" (1 2) or \"L\" (12)."
   ]
  },
  {
   "cell_type": "markdown",
   "metadata": {},
   "source": [
    "#### Example 2:"
   ]
  },
  {
   "cell_type": "raw",
   "metadata": {},
   "source": [
    "Input: \"226\"\n",
    "Output: 3\n",
    "Explanation: It could be decoded as \"BZ\" (2 26), \"VF\" (22 6), or \"BBF\" (2 2 6)."
   ]
  },
  {
   "cell_type": "code",
   "execution_count": 1,
   "metadata": {},
   "outputs": [],
   "source": [
    "class Solution(object):\n",
    "    def numDecodings(self, s):\n",
    "        \"\"\"\n",
    "        :type s: str\n",
    "        :rtype: int\n",
    "        \"\"\"\n",
    "        m0, m1, m2 = 0, 1 if '1'<= s[0] else 0, 1\n",
    "        for i in range(2,len(s)+1):\n",
    "            m0 += ( m1 if '1'<= s[i-1] else 0 ) + (m2 if '10'<=s[i-2:i]<='26' else 0)\n",
    "            m2, m1, m0 = m1, m0, 0\n",
    "        return m1"
   ]
  },
  {
   "cell_type": "code",
   "execution_count": 2,
   "metadata": {},
   "outputs": [
    {
     "data": {
      "text/plain": [
       "3"
      ]
     },
     "execution_count": 2,
     "metadata": {},
     "output_type": "execute_result"
    }
   ],
   "source": [
    "s = \"226\"\n",
    "obj = Solution()\n",
    "obj.numDecodings(s)"
   ]
  },
  {
   "cell_type": "code",
   "execution_count": null,
   "metadata": {},
   "outputs": [],
   "source": []
  }
 ],
 "metadata": {
  "kernelspec": {
   "display_name": "Python 3",
   "language": "python",
   "name": "python3"
  },
  "language_info": {
   "codemirror_mode": {
    "name": "ipython",
    "version": 3
   },
   "file_extension": ".py",
   "mimetype": "text/x-python",
   "name": "python",
   "nbconvert_exporter": "python",
   "pygments_lexer": "ipython3",
   "version": "3.7.4"
  }
 },
 "nbformat": 4,
 "nbformat_minor": 2
}
