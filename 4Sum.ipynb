{
 "cells": [
  {
   "cell_type": "markdown",
   "metadata": {},
   "source": [
    "Given an array nums of n integers and an integer target, are there elements a, b, c, and d in nums such that a + b + c + d = target? Find all unique quadruplets in the array which gives the sum of target.\n",
    "\n",
    "##### Note:\n",
    "\n",
    "The solution set must not contain duplicate quadruplets.\n",
    "\n",
    "#### Example:"
   ]
  },
  {
   "cell_type": "raw",
   "metadata": {},
   "source": [
    "Given array nums = [1, 0, -1, 0, -2, 2], and target = 0.\n",
    "\n",
    "A solution set is:\n",
    "[\n",
    "  [-1,  0, 0, 1],\n",
    "  [-2, -1, 1, 2],\n",
    "  [-2,  0, 0, 2]\n",
    "]"
   ]
  },
  {
   "cell_type": "code",
   "execution_count": 14,
   "metadata": {},
   "outputs": [],
   "source": [
    "class Solution:\n",
    "    def fourSum(self, n, t):\n",
    "        if not n: \n",
    "            return []\n",
    "        n.sort()\n",
    "        L, N, S, M = len(n), {j:i for i,j in enumerate(n)}, set(), n[-1]\n",
    "        for i in range(L-3):\n",
    "            a = n[i]\n",
    "            if a + 3*M < t: \n",
    "                continue\n",
    "            if 4*a > t: \n",
    "                break\n",
    "            for j in range(i+1,L-2):\n",
    "                b = n[j]\n",
    "                if a + b + 2*M < t: \n",
    "                    continue\n",
    "                if a + 3*b > t: \n",
    "                    break\n",
    "                for k in range(j+1,L-1):\n",
    "                    c = n[k]\n",
    "                    d = t-(a+b+c)\n",
    "                    if d > M: \n",
    "                        continue\n",
    "                    if d < c: \n",
    "                        break\n",
    "                    if d in N and N[d] > k: \n",
    "                        S.add((a,b,c,d))\n",
    "        return list(S)"
   ]
  },
  {
   "cell_type": "code",
   "execution_count": 15,
   "metadata": {},
   "outputs": [
    {
     "data": {
      "text/plain": [
       "[(-2, -1, 1, 2), (-2, 0, 0, 2), (-1, 0, 0, 1)]"
      ]
     },
     "execution_count": 15,
     "metadata": {},
     "output_type": "execute_result"
    }
   ],
   "source": [
    "n = [1, 0, -1, 0, -2, 2]\n",
    "t = 0\n",
    "obj = Solution()\n",
    "obj.fourSum(n,t)"
   ]
  },
  {
   "cell_type": "code",
   "execution_count": null,
   "metadata": {},
   "outputs": [],
   "source": []
  }
 ],
 "metadata": {
  "kernelspec": {
   "display_name": "Python 3",
   "language": "python",
   "name": "python3"
  },
  "language_info": {
   "codemirror_mode": {
    "name": "ipython",
    "version": 3
   },
   "file_extension": ".py",
   "mimetype": "text/x-python",
   "name": "python",
   "nbconvert_exporter": "python",
   "pygments_lexer": "ipython3",
   "version": "3.7.4"
  }
 },
 "nbformat": 4,
 "nbformat_minor": 2
}
