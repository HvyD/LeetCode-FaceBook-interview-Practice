{
 "cells": [
  {
   "cell_type": "markdown",
   "metadata": {},
   "source": [
    "Remove the minimum number of invalid parentheses in order to make the input string valid. Return all possible results.\n",
    "\n",
    "#### Note: \n",
    "    The input string may contain letters other than the parentheses ( and ).\n",
    "\n",
    "#### Example 1:"
   ]
  },
  {
   "cell_type": "raw",
   "metadata": {},
   "source": [
    "Input: \"()())()\"\n",
    "Output: [\"()()()\", \"(())()\"]"
   ]
  },
  {
   "cell_type": "markdown",
   "metadata": {},
   "source": [
    "#### Example 2:"
   ]
  },
  {
   "cell_type": "raw",
   "metadata": {},
   "source": [
    "Input: \"(a)())()\"\n",
    "Output: [\"(a)()()\", \"(a())()\"]"
   ]
  },
  {
   "cell_type": "markdown",
   "metadata": {},
   "source": [
    "#### Example 3:"
   ]
  },
  {
   "cell_type": "raw",
   "metadata": {},
   "source": [
    "Input: \")(\"\n",
    "Output: [\"\"]"
   ]
  },
  {
   "cell_type": "code",
   "execution_count": 9,
   "metadata": {},
   "outputs": [],
   "source": [
    "class Solution:\n",
    "    def removeInvalidParentheses(self, s):\n",
    "        if s == \"\":return [\"\"]\n",
    "        ans= []\n",
    "        def remove(ans,pareStr, startPoint, lastRemvPos, parentheses):\n",
    "            stack = 0\n",
    "            for p in range(startPoint, len(pareStr)):\n",
    "                if pareStr[p] == parentheses[0]: stack += 1\n",
    "                elif pareStr[p] == parentheses[1]: stack -= 1\n",
    "                if stack < 0: break\n",
    "            if stack < 0:\n",
    "                for r in range(lastRemvPos,p+1):\n",
    "                    if pareStr[r] == parentheses[1] and (r == lastRemvPos or pareStr[r-1] != pareStr[r]):\n",
    "                        remove(ans,pareStr[0:r]+pareStr[r+1:], p, r,parentheses)\n",
    "            elif stack > 0:\n",
    "                remove(ans,pareStr[::-1],0,0,parentheses[::-1])\n",
    "            elif stack == 0:\n",
    "                if parentheses[0] == '(': ans.append(pareStr)\n",
    "                else: ans.append(pareStr[::-1])\n",
    "        \n",
    "        \n",
    "        remove(ans,s,0,0,['(',')'])\n",
    "        if len(ans) == 0: return [\"\"]\n",
    "        return ans"
   ]
  },
  {
   "cell_type": "code",
   "execution_count": 10,
   "metadata": {},
   "outputs": [
    {
     "data": {
      "text/plain": [
       "['(a())()', '(a)()()']"
      ]
     },
     "execution_count": 10,
     "metadata": {},
     "output_type": "execute_result"
    }
   ],
   "source": [
    "s = \"(a)())()\"\n",
    "obj = Solution()\n",
    "obj.removeInvalidParentheses(s)"
   ]
  },
  {
   "cell_type": "code",
   "execution_count": null,
   "metadata": {},
   "outputs": [],
   "source": []
  }
 ],
 "metadata": {
  "kernelspec": {
   "display_name": "Python 3",
   "language": "python",
   "name": "python3"
  },
  "language_info": {
   "codemirror_mode": {
    "name": "ipython",
    "version": 3
   },
   "file_extension": ".py",
   "mimetype": "text/x-python",
   "name": "python",
   "nbconvert_exporter": "python",
   "pygments_lexer": "ipython3",
   "version": "3.7.4"
  }
 },
 "nbformat": 4,
 "nbformat_minor": 2
}
