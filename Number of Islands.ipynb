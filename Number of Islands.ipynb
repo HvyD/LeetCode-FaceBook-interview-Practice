{
 "cells": [
  {
   "cell_type": "markdown",
   "metadata": {},
   "source": [
    "Given a 2d grid map of '1's (land) and '0's (water), count the number of islands. An island is surrounded by water and is formed by connecting adjacent lands horizontally or vertically. You may assume all four edges of the grid are all surrounded by water.\n",
    "\n",
    "<b>Example 1:</b>"
   ]
  },
  {
   "cell_type": "raw",
   "metadata": {},
   "source": [
    "Input:\n",
    "11110\n",
    "11010\n",
    "11000\n",
    "00000\n",
    "\n",
    "Output: 1"
   ]
  },
  {
   "cell_type": "markdown",
   "metadata": {},
   "source": [
    "<b>Example 2:</b>"
   ]
  },
  {
   "cell_type": "raw",
   "metadata": {},
   "source": [
    "Input:\n",
    "11000\n",
    "11000\n",
    "00100\n",
    "00011\n",
    "\n",
    "Output: 3"
   ]
  },
  {
   "cell_type": "code",
   "execution_count": 4,
   "metadata": {},
   "outputs": [],
   "source": [
    "class Solution:\n",
    "    def numIslands(self, grid):\n",
    "        count = 0\n",
    "        for row in range(len(grid)):\n",
    "            for column in range(len(grid[row])):\n",
    "                if(grid[row][column] == \"1\"):\n",
    "                    count += 1\n",
    "                    self.BFS(grid, row, column)\n",
    "        return count\n",
    "    def BFS(self, grid, x,y):\n",
    "        if(x < 0 or x >= len(grid) or y < 0 or y >= len(grid[x]) or grid[x][y] == \"0\"):\n",
    "            return\n",
    "        grid[x][y] = \"0\"\n",
    "        self.BFS(grid, x+1, y)\n",
    "        self.BFS(grid, x-1, y)\n",
    "        self.BFS(grid, x, y+1)\n",
    "        self.BFS(grid, x, y-1)"
   ]
  },
  {
   "cell_type": "code",
   "execution_count": 6,
   "metadata": {},
   "outputs": [
    {
     "data": {
      "text/plain": [
       "1"
      ]
     },
     "execution_count": 6,
     "metadata": {},
     "output_type": "execute_result"
    }
   ],
   "source": [
    "grid = [[\"1\",\"1\",\"1\",\"1\",\"0\"],\n",
    "        [\"1\",\"1\",\"0\",\"1\",\"0\"],\n",
    "        [\"1\",\"1\",\"0\",\"0\",\"0\"],\n",
    "        [\"0\",\"0\",\"0\",\"0\",\"0\"]]\n",
    "obj = Solution()\n",
    "obj.numIslands(grid)"
   ]
  },
  {
   "cell_type": "code",
   "execution_count": null,
   "metadata": {},
   "outputs": [],
   "source": []
  }
 ],
 "metadata": {
  "kernelspec": {
   "display_name": "Python 3",
   "language": "python",
   "name": "python3"
  },
  "language_info": {
   "codemirror_mode": {
    "name": "ipython",
    "version": 3
   },
   "file_extension": ".py",
   "mimetype": "text/x-python",
   "name": "python",
   "nbconvert_exporter": "python",
   "pygments_lexer": "ipython3",
   "version": "3.7.4"
  }
 },
 "nbformat": 4,
 "nbformat_minor": 2
}
