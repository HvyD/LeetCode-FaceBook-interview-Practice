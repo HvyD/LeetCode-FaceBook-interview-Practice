{
 "cells": [
  {
   "cell_type": "markdown",
   "metadata": {},
   "source": [
    "Given an array nums of n integers and an integer target, find three integers in nums such that the sum is closest to target. Return the sum of the three integers. You may assume that each input would have exactly one solution.\n",
    "\n",
    "#### Example:"
   ]
  },
  {
   "cell_type": "raw",
   "metadata": {},
   "source": [
    "Given array nums = [-1, 2, 1, -4], and target = 1.\n",
    "\n",
    "The sum that is closest to the target is 2. (-1 + 2 + 1 = 2)."
   ]
  },
  {
   "cell_type": "code",
   "execution_count": 2,
   "metadata": {},
   "outputs": [],
   "source": [
    "class Solution:\n",
    "    def threeSumClosest(self, nums, target):\n",
    "        nums.sort()\n",
    "        #2-sum problem \n",
    "        ans = float(\"inf\") #initialized to infinity\n",
    "        for i, num in enumerate(nums):\n",
    "            if i > 0 and num == nums[i-1]: continue\n",
    "            lo, hi = i+1, len(nums)-1\n",
    "            while lo < hi:\n",
    "                x = num + nums[lo] + nums[hi]\n",
    "                if x == target: return x \n",
    "                elif x > target: hi -= 1\n",
    "                else: lo += 1\n",
    "                if abs(x-target) < abs(ans-target): ans = x #update answer\n",
    "        return ans "
   ]
  },
  {
   "cell_type": "code",
   "execution_count": null,
   "metadata": {},
   "outputs": [],
   "source": []
  }
 ],
 "metadata": {
  "kernelspec": {
   "display_name": "Python 3",
   "language": "python",
   "name": "python3"
  },
  "language_info": {
   "codemirror_mode": {
    "name": "ipython",
    "version": 3
   },
   "file_extension": ".py",
   "mimetype": "text/x-python",
   "name": "python",
   "nbconvert_exporter": "python",
   "pygments_lexer": "ipython3",
   "version": "3.7.4"
  }
 },
 "nbformat": 4,
 "nbformat_minor": 2
}
