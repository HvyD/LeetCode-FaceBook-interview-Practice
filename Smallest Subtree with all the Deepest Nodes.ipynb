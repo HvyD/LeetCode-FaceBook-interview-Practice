{
 "cells": [
  {
   "cell_type": "markdown",
   "metadata": {},
   "source": [
    "Given a binary tree rooted at root, the depth of each node is the shortest distance to the root.\n",
    "\n",
    "A node is deepest if it has the largest depth possible among any node in the entire tree.\n",
    "\n",
    "The subtree of a node is that node, plus the set of all descendants of that node.\n",
    "\n",
    "Return the node with the largest depth such that it contains all the deepest nodes in its subtree.\n",
    "\n",
    " \n",
    "\n",
    "<b>Example 1:</b>"
   ]
  },
  {
   "cell_type": "raw",
   "metadata": {},
   "source": [
    "Input: [3,5,1,6,2,0,8,null,null,7,4]\n",
    "Output: [2,7,4]"
   ]
  },
  {
   "cell_type": "markdown",
   "metadata": {},
   "source": [
    "## Explanation:\n",
    "![ Explanation: image](https://s3-lc-upload.s3.amazonaws.com/uploads/2018/07/01/sketch1.png)\n"
   ]
  },
  {
   "cell_type": "raw",
   "metadata": {},
   "source": [
    "We return the node with value 2, colored in yellow in the diagram.\n",
    "The nodes colored in blue are the deepest nodes of the tree.\n",
    "The input \"[3, 5, 1, 6, 2, 0, 8, null, null, 7, 4]\" is a serialization of the given tree.\n",
    "The output \"[2, 7, 4]\" is a serialization of the subtree rooted at the node with value 2.\n",
    "Both the input and output have TreeNode type."
   ]
  },
  {
   "cell_type": "code",
   "execution_count": 8,
   "metadata": {},
   "outputs": [],
   "source": [
    "# Definition for a binary tree node.\n",
    "class TreeNode:\n",
    "    def __init__(self, x):\n",
    "        self.val = x\n",
    "        self.left = None\n",
    "        self.right = None\n",
    "\n",
    "class Solution:\n",
    "    def subtreeWithAllDeepest(self, root: TreeNode) -> TreeNode:\n",
    "        def dfs(node):\n",
    "\t        if node is None:\n",
    "\t\t        return (None, 0)\n",
    "\t        lcn, ldep = dfs(node.left)\n",
    "\t        rcn, rdep = dfs(node.right)\n",
    "\t        if ldep == rdep:\n",
    "\t\t        return (node, ldep+1)\n",
    "\t        if ldep > rdep:\n",
    "\t\t        return (lcn, ldep + 1)\n",
    "\t        return (rcn, rdep + 1)\n",
    "        return dfs(root)[0]\n",
    " "
   ]
  },
  {
   "cell_type": "code",
   "execution_count": null,
   "metadata": {},
   "outputs": [],
   "source": []
  }
 ],
 "metadata": {
  "kernelspec": {
   "display_name": "Python 3",
   "language": "python",
   "name": "python3"
  },
  "language_info": {
   "codemirror_mode": {
    "name": "ipython",
    "version": 3
   },
   "file_extension": ".py",
   "mimetype": "text/x-python",
   "name": "python",
   "nbconvert_exporter": "python",
   "pygments_lexer": "ipython3",
   "version": "3.7.4"
  }
 },
 "nbformat": 4,
 "nbformat_minor": 2
}
