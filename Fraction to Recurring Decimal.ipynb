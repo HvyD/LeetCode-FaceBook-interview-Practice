{
 "cells": [
  {
   "cell_type": "markdown",
   "metadata": {},
   "source": [
    "Given two integers representing the numerator and denominator of a fraction, return the fraction in string format.\n",
    "\n",
    "If the fractional part is repeating, enclose the repeating part in parentheses.\n",
    "\n",
    "#### Example 1:\n",
    "Input: numerator = 1, denominator = 2\n",
    "    \n",
    "Output: \"0.5\"\n",
    "    \n",
    "#### Example 2:\n",
    "Input: numerator = 2, denominator = 1\n",
    "    \n",
    "Output: \"2\"\n",
    "    \n",
    "#### Example 3:\n",
    "Input: numerator = 2, denominator = 3\n",
    "    \n",
    "Output: \"0.(6)\""
   ]
  },
  {
   "cell_type": "code",
   "execution_count": 1,
   "metadata": {},
   "outputs": [],
   "source": [
    "class Solution:\n",
    "# @return a string\n",
    "    def fractionToDecimal(self, numerator, denominator):\n",
    "        n, remainder = divmod(abs(numerator), abs(denominator))\n",
    "        sign = '-' if numerator*denominator < 0 else ''\n",
    "        result = [sign+str(n), '.']\n",
    "        stack = []\n",
    "        while remainder not in stack:\n",
    "            stack.append(remainder)\n",
    "            n, remainder = divmod(remainder*10, abs(denominator))\n",
    "            result.append(str(n))\n",
    "\n",
    "        idx = stack.index(remainder)\n",
    "        result.insert(idx+2, '(')\n",
    "        result.append(')')\n",
    "        return ''.join(result).replace('(0)', '').rstrip('.')"
   ]
  },
  {
   "cell_type": "code",
   "execution_count": 5,
   "metadata": {},
   "outputs": [
    {
     "data": {
      "text/plain": [
       "'0.5'"
      ]
     },
     "execution_count": 5,
     "metadata": {},
     "output_type": "execute_result"
    }
   ],
   "source": [
    "numerator = 1\n",
    "denominator = 2\n",
    "obj = Solution()\n",
    "obj.fractionToDecimal( numerator, denominator)"
   ]
  },
  {
   "cell_type": "code",
   "execution_count": 6,
   "metadata": {},
   "outputs": [
    {
     "data": {
      "text/plain": [
       "'2'"
      ]
     },
     "execution_count": 6,
     "metadata": {},
     "output_type": "execute_result"
    }
   ],
   "source": [
    "numerator = 2\n",
    "denominator = 1\n",
    "obj.fractionToDecimal( numerator, denominator)"
   ]
  },
  {
   "cell_type": "code",
   "execution_count": 7,
   "metadata": {},
   "outputs": [
    {
     "data": {
      "text/plain": [
       "'0.(6)'"
      ]
     },
     "execution_count": 7,
     "metadata": {},
     "output_type": "execute_result"
    }
   ],
   "source": [
    "numerator = 2\n",
    "denominator = 3\n",
    "obj.fractionToDecimal( numerator, denominator)"
   ]
  },
  {
   "cell_type": "code",
   "execution_count": null,
   "metadata": {},
   "outputs": [],
   "source": []
  }
 ],
 "metadata": {
  "kernelspec": {
   "display_name": "Python 3",
   "language": "python",
   "name": "python3"
  },
  "language_info": {
   "codemirror_mode": {
    "name": "ipython",
    "version": 3
   },
   "file_extension": ".py",
   "mimetype": "text/x-python",
   "name": "python",
   "nbconvert_exporter": "python",
   "pygments_lexer": "ipython3",
   "version": "3.7.4"
  }
 },
 "nbformat": 4,
 "nbformat_minor": 2
}
