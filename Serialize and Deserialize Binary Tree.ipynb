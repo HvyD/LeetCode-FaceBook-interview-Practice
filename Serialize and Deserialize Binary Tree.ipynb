{
 "cells": [
  {
   "cell_type": "markdown",
   "metadata": {},
   "source": [
    "Serialization is the process of converting a data structure or object into a sequence of bits so that it can be stored in a file or memory buffer, or transmitted across a network connection link to be reconstructed later in the same or another computer environment.\n",
    "\n",
    "Design an algorithm to serialize and deserialize a binary tree. There is no restriction on how your serialization/deserialization algorithm should work. You just need to ensure that a binary tree can be serialized to a string and this string can be deserialized to the original tree structure."
   ]
  },
  {
   "cell_type": "markdown",
   "metadata": {},
   "source": [
    "<b>Example: </b>"
   ]
  },
  {
   "cell_type": "raw",
   "metadata": {},
   "source": [
    "You may serialize the following tree:\n",
    "\n",
    "    1\n",
    "   / \\\n",
    "  2   3\n",
    "     / \\\n",
    "    4   5\n",
    "\n",
    "as \"[1,2,3,null,null,4,5]\""
   ]
  },
  {
   "cell_type": "markdown",
   "metadata": {},
   "source": [
    "<b>Clarification:</b> The above format is the same as how LeetCode serializes a binary tree. You do not necessarily need to follow this format, so please be creative and come up with different approaches yourself.\n",
    "\n",
    "\n",
    "<b>Note:</b> Do not use class member/global/static variables to store states. Your serialize and deserialize algorithms should be stateless."
   ]
  },
  {
   "cell_type": "code",
   "execution_count": 1,
   "metadata": {},
   "outputs": [],
   "source": [
    "# Definition for a binary tree node.\n",
    "# class TreeNode(object):\n",
    "#     def __init__(self, x):\n",
    "#         self.val = x\n",
    "#         self.left = None\n",
    "#         self.right = None\n",
    "\n",
    "class Codec:\n",
    "    # Recurrsion\n",
    "    def serialize(self, root):\n",
    "        if not root: return 'x'\n",
    "        return root.val, self.serialize(root.left), self.serialize(root.right)\n",
    "\n",
    "    def deserialize(self, data):\n",
    "\t    if data[0] == 'x': return None\n",
    "\t    node = TreeNode(data[0])\n",
    "\t    node.left = self.deserialize(data[1])\n",
    "\t    node.right = self.deserialize(data[2])\n",
    "\t    return node\n",
    "        \n",
    "\n",
    "# Your Codec object will be instantiated and called as such:\n",
    "# codec = Codec()\n",
    "# codec.deserialize(codec.serialize(root))"
   ]
  },
  {
   "cell_type": "code",
   "execution_count": null,
   "metadata": {},
   "outputs": [],
   "source": []
  }
 ],
 "metadata": {
  "kernelspec": {
   "display_name": "Python 3",
   "language": "python",
   "name": "python3"
  },
  "language_info": {
   "codemirror_mode": {
    "name": "ipython",
    "version": 3
   },
   "file_extension": ".py",
   "mimetype": "text/x-python",
   "name": "python",
   "nbconvert_exporter": "python",
   "pygments_lexer": "ipython3",
   "version": "3.7.4"
  }
 },
 "nbformat": 4,
 "nbformat_minor": 2
}
