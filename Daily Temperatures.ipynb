{
 "cells": [
  {
   "cell_type": "markdown",
   "metadata": {},
   "source": [
    "Given a list of daily temperatures T, return a list such that, for each day in the input, tells you how many days you would have to wait until a warmer temperature. If there is no future day for which this is possible, put 0 instead.\n",
    "\n",
    "For example, given the list of temperatures T = [73, 74, 75, 71, 69, 72, 76, 73], your output should be [1, 1, 4, 2, 1, 1, 0, 0].\n",
    "\n",
    "<b>Note:</b> The length of temperatures will be in the range [1, 30000]. Each temperature will be an integer in the range [30, 100]"
   ]
  },
  {
   "cell_type": "code",
   "execution_count": 1,
   "metadata": {},
   "outputs": [],
   "source": [
    "class Solution:\n",
    "    def dailyTemperatures(self, T):\n",
    "        # Concept = This is similar to having a monotonous stack and you should start\n",
    "        # the back of array as then you already know how many warmer days are there next\n",
    "        # to this one and keep going back compating the top of the stack to current temp\n",
    "        \n",
    "        res = [0] * len(T)\n",
    "        stack = []\n",
    "        \n",
    "        for index in range(len(T)-1, -1, -1):\n",
    "            \n",
    "            while stack and T[stack[-1]] <= T[index]:\n",
    "                stack.pop()\n",
    "                        \n",
    "            res[index] = stack[-1] - index if stack else 0\n",
    "            \n",
    "            stack.append(index)\n",
    "\n",
    "            \n",
    "        return res\n",
    "        "
   ]
  },
  {
   "cell_type": "code",
   "execution_count": 6,
   "metadata": {},
   "outputs": [],
   "source": [
    "obj = Solution()\n",
    "assert obj.dailyTemperatures([73, 74, 75, 71, 69, 72, 76, 73]) == [1, 1, 4, 2, 1, 1, 0, 0]"
   ]
  }
 ],
 "metadata": {
  "kernelspec": {
   "display_name": "Python 3",
   "language": "python",
   "name": "python3"
  },
  "language_info": {
   "codemirror_mode": {
    "name": "ipython",
    "version": 3
   },
   "file_extension": ".py",
   "mimetype": "text/x-python",
   "name": "python",
   "nbconvert_exporter": "python",
   "pygments_lexer": "ipython3",
   "version": "3.7.4"
  }
 },
 "nbformat": 4,
 "nbformat_minor": 2
}
