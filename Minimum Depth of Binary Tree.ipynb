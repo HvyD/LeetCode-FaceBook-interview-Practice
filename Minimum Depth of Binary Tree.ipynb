{
 "cells": [
  {
   "cell_type": "markdown",
   "metadata": {},
   "source": [
    "Given a binary tree, find its minimum depth.\n",
    "\n",
    "The minimum depth is the number of nodes along the shortest path from the root node down to the nearest leaf node.\n",
    "\n",
    "##### Note:\n",
    "            A leaf is a node with no children.\n",
    "\n",
    "#### Example:"
   ]
  },
  {
   "cell_type": "raw",
   "metadata": {},
   "source": [
    "Given binary tree [3,9,20,null,null,15,7],\n",
    "\n",
    "    3\n",
    "   / \\\n",
    "  9  20\n",
    "    /  \\\n",
    "   15   7\n",
    "return its minimum depth = 2."
   ]
  },
  {
   "cell_type": "code",
   "execution_count": null,
   "metadata": {},
   "outputs": [],
   "source": [
    "# Definition for a binary tree node.\n",
    "# class TreeNode:\n",
    "#     def __init__(self, x):\n",
    "#         self.val = x\n",
    "#         self.left = None\n",
    "#         self.right = None\n",
    "\n",
    "from collections import deque\n",
    "class Solution:\n",
    "    def minDepth(self, root):\n",
    "        if not root:\n",
    "            return 0\n",
    "        queue = deque([(root, 1)])\n",
    "        while queue:\n",
    "            curr, depth = queue.popleft()\n",
    "            if not curr.left and not curr.right:\n",
    "                return depth\n",
    "            if curr.left:\n",
    "                queue.append((curr.left, depth+1))\n",
    "            if curr.right:\n",
    "                queue.append((curr.right, depth+1))"
   ]
  }
 ],
 "metadata": {
  "kernelspec": {
   "display_name": "Python 3",
   "language": "python",
   "name": "python3"
  },
  "language_info": {
   "codemirror_mode": {
    "name": "ipython",
    "version": 3
   },
   "file_extension": ".py",
   "mimetype": "text/x-python",
   "name": "python",
   "nbconvert_exporter": "python",
   "pygments_lexer": "ipython3",
   "version": "3.7.4"
  }
 },
 "nbformat": 4,
 "nbformat_minor": 2
}
