{
 "cells": [
  {
   "cell_type": "markdown",
   "metadata": {},
   "source": [
    "Given a singly linked list L: L0→L1→…→Ln-1→Ln,\n",
    "reorder it to: L0→Ln→L1→Ln-1→L2→Ln-2→…\n",
    "\n",
    "You may <b>not</b> modify the values in the list's nodes, only nodes itself may be changed.\n",
    "\n",
    "<b>Example 1:</b>"
   ]
  },
  {
   "cell_type": "raw",
   "metadata": {},
   "source": [
    "Given 1->2->3->4, reorder it to 1->4->2->3."
   ]
  },
  {
   "cell_type": "markdown",
   "metadata": {},
   "source": [
    "<b>Example 2:</b>"
   ]
  },
  {
   "cell_type": "raw",
   "metadata": {},
   "source": [
    "Given 1->2->3->4->5, reorder it to 1->5->2->4->3."
   ]
  },
  {
   "cell_type": "code",
   "execution_count": 2,
   "metadata": {},
   "outputs": [],
   "source": [
    "# Definition for singly-linked list.\n",
    "# class ListNode:\n",
    "#     def __init__(self, x):\n",
    "#         self.val = x\n",
    "#         self.next = None\n",
    "def reorderList(head):\n",
    "        stack = []\n",
    "        stack_pointer = head\n",
    "        while stack_pointer:\n",
    "            stack.append(stack_pointer)\n",
    "            stack_pointer = stack_pointer.next\n",
    "        if head:\n",
    "            pointer = head\n",
    "            end = stack.pop()\n",
    "            while pointer.next:\n",
    "                if pointer.next == end:\n",
    "                    break\n",
    "                new = ListNode(end.val)\n",
    "                new.next = pointer.next\n",
    "                pointer.next = new\n",
    "                pointer = new.next\n",
    "                end = stack.pop()\n",
    "                end.next = None\n",
    "                if not pointer.next:\n",
    "                    break\n",
    "        "
   ]
  },
  {
   "cell_type": "code",
   "execution_count": null,
   "metadata": {},
   "outputs": [],
   "source": [
    "# Definition for singly-linked list.\n",
    "# class ListNode:\n",
    "#     def __init__(self, x):\n",
    "#         self.val = x\n",
    "#         self.next = None\n",
    "\n",
    "class Solution:\n",
    "    def reorderList(self, head):\n",
    "   \n",
    "        def reorder(cur, root):\n",
    "            if not cur:\n",
    "                return root\n",
    "            node = reorder(cur.next, root)\n",
    "            if not node:\n",
    "                return node\n",
    "            if node == cur or node.next == cur:\n",
    "                cur.next = None\n",
    "            else:    \n",
    "                cur.next = node.next\n",
    "                node.next = cur\n",
    "            return cur.next\n",
    "    \n",
    "        reorder(head,head)"
   ]
  }
 ],
 "metadata": {
  "kernelspec": {
   "display_name": "Python 3",
   "language": "python",
   "name": "python3"
  },
  "language_info": {
   "codemirror_mode": {
    "name": "ipython",
    "version": 3
   },
   "file_extension": ".py",
   "mimetype": "text/x-python",
   "name": "python",
   "nbconvert_exporter": "python",
   "pygments_lexer": "ipython3",
   "version": "3.7.4"
  }
 },
 "nbformat": 4,
 "nbformat_minor": 2
}
