{
 "cells": [
  {
   "cell_type": "markdown",
   "metadata": {},
   "source": [
    "Given an integer array nums, find the sum of the elements between indices i and j (i ≤ j), inclusive.\n",
    "\n",
    "### Example:"
   ]
  },
  {
   "cell_type": "raw",
   "metadata": {},
   "source": [
    "Given nums = [-2, 0, 3, -5, 2, -1]\n",
    "\n",
    "sumRange(0, 2) -> 1\n",
    "sumRange(2, 5) -> -1\n",
    "sumRange(0, 5) -> -3"
   ]
  },
  {
   "cell_type": "code",
   "execution_count": null,
   "metadata": {},
   "outputs": [],
   "source": [
    "class NumArray:\n",
    "\n",
    "    def __init__(self, nums: List[int]):\n",
    "        \n",
    "        self.dp=[0]\n",
    "        \n",
    "        for num in nums:\n",
    "            self.dp.append(self.dp[-1]+num)\n",
    "\n",
    "        \n",
    "        \n",
    "    def sumRange(self, i: int, j: int) -> int:\n",
    "        \n",
    "        return self.dp[j+1]-self.dp[i]"
   ]
  }
 ],
 "metadata": {
  "kernelspec": {
   "display_name": "Python 3",
   "language": "python",
   "name": "python3"
  },
  "language_info": {
   "codemirror_mode": {
    "name": "ipython",
    "version": 3
   },
   "file_extension": ".py",
   "mimetype": "text/x-python",
   "name": "python",
   "nbconvert_exporter": "python",
   "pygments_lexer": "ipython3",
   "version": "3.7.4"
  }
 },
 "nbformat": 4,
 "nbformat_minor": 2
}
