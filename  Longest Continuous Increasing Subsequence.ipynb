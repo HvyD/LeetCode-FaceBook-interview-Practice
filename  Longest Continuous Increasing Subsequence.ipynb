{
 "cells": [
  {
   "cell_type": "markdown",
   "metadata": {},
   "source": [
    "Given an unsorted array of integers, find the length of longest continuous increasing subsequence (subarray).\n",
    "\n",
    "#### Example 1:"
   ]
  },
  {
   "cell_type": "raw",
   "metadata": {},
   "source": [
    "Input: [1,3,5,4,7]\n",
    "Output: 3\n",
    "Explanation: The longest continuous increasing subsequence is [1,3,5], its length is 3. \n",
    "Even though [1,3,5,7] is also an increasing subsequence, it's not a continuous one where 5 and 7 are separated by 4. "
   ]
  },
  {
   "cell_type": "markdown",
   "metadata": {},
   "source": [
    "#### Example 2:"
   ]
  },
  {
   "cell_type": "raw",
   "metadata": {},
   "source": [
    "Input: [2,2,2,2,2]\n",
    "Output: 1\n",
    "Explanation: The longest continuous increasing subsequence is [2], its length is 1. "
   ]
  },
  {
   "cell_type": "code",
   "execution_count": 1,
   "metadata": {},
   "outputs": [],
   "source": [
    "class Solution:\n",
    "    def findLengthOfLCIS(self, nums):\n",
    "        \n",
    "        if len(nums) == 0:\n",
    "            return 0\n",
    "        \n",
    "        max_len = 1\n",
    "        cur_len = 1\n",
    "        for idx in range(1,len(nums)):\n",
    "            if nums[idx]> nums[idx-1]:\n",
    "                cur_len+=1\n",
    "            else:\n",
    "                cur_len = 1 \n",
    "            max_len = max(cur_len, max_len)    \n",
    "        return max_len\n",
    "        "
   ]
  },
  {
   "cell_type": "code",
   "execution_count": 2,
   "metadata": {},
   "outputs": [
    {
     "data": {
      "text/plain": [
       "3"
      ]
     },
     "execution_count": 2,
     "metadata": {},
     "output_type": "execute_result"
    }
   ],
   "source": [
    "nums = [1,3,5,4,7]\n",
    "obj = Solution()\n",
    "obj.findLengthOfLCIS(nums)"
   ]
  },
  {
   "cell_type": "code",
   "execution_count": null,
   "metadata": {},
   "outputs": [],
   "source": []
  }
 ],
 "metadata": {
  "kernelspec": {
   "display_name": "Python 3",
   "language": "python",
   "name": "python3"
  },
  "language_info": {
   "codemirror_mode": {
    "name": "ipython",
    "version": 3
   },
   "file_extension": ".py",
   "mimetype": "text/x-python",
   "name": "python",
   "nbconvert_exporter": "python",
   "pygments_lexer": "ipython3",
   "version": "3.7.4"
  }
 },
 "nbformat": 4,
 "nbformat_minor": 2
}
