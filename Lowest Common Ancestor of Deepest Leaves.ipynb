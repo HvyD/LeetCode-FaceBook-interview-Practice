{
 "cells": [
  {
   "cell_type": "markdown",
   "metadata": {},
   "source": [
    "Given a rooted binary tree, return the lowest common ancestor of its deepest leaves.\n",
    "\n",
    "Recall that:\n",
    "\n",
    "The node of a binary tree is a leaf if and only if it has no children\n",
    "The depth of the root of the tree is 0, and if the depth of a node is d, the depth of each of its children is d+1.\n",
    "The lowest common ancestor of a set S of nodes is the node A with the largest depth such that every node in S is in the subtree with root A.\n",
    " \n",
    "\n",
    "#### Example 1:"
   ]
  },
  {
   "cell_type": "raw",
   "metadata": {},
   "source": [
    "Input: root = [1,2,3]\n",
    "Output: [1,2,3]\n",
    "Explanation: \n",
    "The deepest leaves are the nodes with values 2 and 3.\n",
    "The lowest common ancestor of these leaves is the node with value 1.\n",
    "The answer returned is a TreeNode object (not an array) with serialization \"[1,2,3]\"."
   ]
  },
  {
   "cell_type": "markdown",
   "metadata": {},
   "source": [
    "#### Example 2:"
   ]
  },
  {
   "cell_type": "raw",
   "metadata": {},
   "source": [
    "Input: root = [1,2,3,4]\n",
    "Output: [4]"
   ]
  },
  {
   "cell_type": "markdown",
   "metadata": {},
   "source": [
    "#### Example 3:"
   ]
  },
  {
   "cell_type": "raw",
   "metadata": {},
   "source": [
    "Input: root = [1,2,3,4,5]\n",
    "Output: [2,4,5]"
   ]
  },
  {
   "cell_type": "markdown",
   "metadata": {},
   "source": [
    "#### Constraints:\n",
    "\n",
    "    The given tree will have between 1 and 1000 nodes.\n",
    "    Each node of the tree will have a distinct value between 1 and 1000."
   ]
  },
  {
   "cell_type": "code",
   "execution_count": 2,
   "metadata": {},
   "outputs": [],
   "source": [
    "# Definition for a binary tree node.\n",
    "# class TreeNode:\n",
    "#     def __init__(self, x):\n",
    "#         self.val = x\n",
    "#         self.left = None\n",
    "#         self.right = None\n",
    "\n",
    "class Solution:\n",
    "    def lcaDeepestLeaves(self, root):\n",
    "        \n",
    "        def dfs(root):\n",
    "            if not root:\n",
    "                return [None,0]\n",
    "            \n",
    "            [lnode,ld] = dfs(root.left)\n",
    "            [rnode,rd] = dfs(root.right)\n",
    "            \n",
    "            if ld == rd:\n",
    "                return [root,(ld+1)]\n",
    "            \n",
    "            return [lnode,(ld+1)] if ld > rd else [rnode,(rd+1)]\n",
    "        \n",
    "        node,_ = dfs(root)\n",
    "        return node"
   ]
  },
  {
   "cell_type": "code",
   "execution_count": null,
   "metadata": {},
   "outputs": [],
   "source": []
  }
 ],
 "metadata": {
  "kernelspec": {
   "display_name": "Python 3",
   "language": "python",
   "name": "python3"
  },
  "language_info": {
   "codemirror_mode": {
    "name": "ipython",
    "version": 3
   },
   "file_extension": ".py",
   "mimetype": "text/x-python",
   "name": "python",
   "nbconvert_exporter": "python",
   "pygments_lexer": "ipython3",
   "version": "3.7.4"
  }
 },
 "nbformat": 4,
 "nbformat_minor": 2
}
