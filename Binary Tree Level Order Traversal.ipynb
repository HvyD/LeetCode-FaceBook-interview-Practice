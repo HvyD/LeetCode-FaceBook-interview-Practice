{
 "cells": [
  {
   "cell_type": "code",
   "execution_count": null,
   "metadata": {},
   "outputs": [],
   "source": []
  },
  {
   "cell_type": "code",
   "execution_count": null,
   "metadata": {},
   "outputs": [],
   "source": []
  },
  {
   "cell_type": "code",
   "execution_count": null,
   "metadata": {},
   "outputs": [],
   "source": []
  },
  {
   "cell_type": "code",
   "execution_count": 9,
   "metadata": {},
   "outputs": [
    {
     "ename": "TabError",
     "evalue": "inconsistent use of tabs and spaces in indentation (<ipython-input-9-4c971d16c596>, line 15)",
     "output_type": "error",
     "traceback": [
      "\u001b[1;36m  File \u001b[1;32m\"<ipython-input-9-4c971d16c596>\"\u001b[1;36m, line \u001b[1;32m15\u001b[0m\n\u001b[1;33m    if node.right:\u001b[0m\n\u001b[1;37m                   ^\u001b[0m\n\u001b[1;31mTabError\u001b[0m\u001b[1;31m:\u001b[0m inconsistent use of tabs and spaces in indentation\n"
     ]
    }
   ],
   "source": [
    "class Solution:\n",
    "    def levelOrder(self, root):\n",
    "        if not root: \n",
    "            return []\n",
    "        ans, queue = [], []\n",
    "        queue.append(root)\n",
    "        queue.append('#')\n",
    "        while queue[0] != '#':\n",
    "            temp = []\n",
    "        while queue[0] != '#':\n",
    "            node = queue.pop(0)\n",
    "            temp.append(node.val)\n",
    "            if node.left:\n",
    "                queue.append(node.left)\n",
    "                if node.right: \n",
    "queue.append(node.right)\n",
    "\t\t    queue.pop(0)\n",
    "\t\t    queue.append('#')\n",
    "\t\t    ans.append(temp)\n",
    "\t    return ans\n",
    "    return dfs(root)\n",
    "        "
   ]
  },
  {
   "cell_type": "code",
   "execution_count": null,
   "metadata": {},
   "outputs": [],
   "source": []
  }
 ],
 "metadata": {
  "kernelspec": {
   "display_name": "Python 3",
   "language": "python",
   "name": "python3"
  },
  "language_info": {
   "codemirror_mode": {
    "name": "ipython",
    "version": 3
   },
   "file_extension": ".py",
   "mimetype": "text/x-python",
   "name": "python",
   "nbconvert_exporter": "python",
   "pygments_lexer": "ipython3",
   "version": "3.7.4"
  }
 },
 "nbformat": 4,
 "nbformat_minor": 2
}
