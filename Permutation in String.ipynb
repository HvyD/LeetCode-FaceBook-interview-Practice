{
 "cells": [
  {
   "cell_type": "markdown",
   "metadata": {},
   "source": [
    "Given two strings <b>s1</b> and <b>s2</b>, write a function to return true if <b>s2</b> contains the permutation of <b>s1</b>. In other words, one of the first string's permutations is the <b>substring</b> of the second string."
   ]
  },
  {
   "cell_type": "markdown",
   "metadata": {},
   "source": [
    "<b>Example 1:</b>"
   ]
  },
  {
   "cell_type": "raw",
   "metadata": {},
   "source": [
    "Input: s1 = \"ab\" s2 = \"eidbaooo\"\n",
    "Output: True\n",
    "Explanation: s2 contains one permutation of s1 (\"ba\")."
   ]
  },
  {
   "cell_type": "markdown",
   "metadata": {},
   "source": [
    "<b>Example 2:</b>"
   ]
  },
  {
   "cell_type": "raw",
   "metadata": {},
   "source": [
    "Input:s1= \"ab\" s2 = \"eidboaoo\"\n",
    "Output: False"
   ]
  },
  {
   "cell_type": "markdown",
   "metadata": {},
   "source": [
    "<b>Note:</b>\n",
    "\n",
    "    1. The input strings only contain lower case letters.\n",
    "    2. The length of both given strings is in range [1, 10,000]."
   ]
  },
  {
   "cell_type": "code",
   "execution_count": 1,
   "metadata": {},
   "outputs": [],
   "source": [
    "### Plan of attack to compare string lengths using a hash function and map both strings and find any permutations\n",
    "\n",
    "\n",
    "class Solution:\n",
    "    def checkInclusion(self, s, t): \n",
    "        LS, LT, S, T = len(s), len(t), 0, 0\n",
    "        if LS > LT: \n",
    "            return False     \n",
    "        for i in range(LS): \n",
    "            S, T = S + hash(s[i]), T + hash(t[i])\n",
    "        if S == T:\n",
    "            return True\n",
    "        for i in range(LS, LT):\n",
    "            T += hash(t[i]) - hash(t[i-LS])\n",
    "            if S == T: \n",
    "                return True\n",
    "        return False"
   ]
  },
  {
   "cell_type": "code",
   "execution_count": 17,
   "metadata": {},
   "outputs": [
    {
     "data": {
      "text/plain": [
       "False"
      ]
     },
     "execution_count": 17,
     "metadata": {},
     "output_type": "execute_result"
    }
   ],
   "source": [
    "s1= \"ab\" \n",
    "s2 = \"eidboaoo\"\n",
    "X = Solution()\n",
    "X.checkInclusion(s1,s2)"
   ]
  },
  {
   "cell_type": "code",
   "execution_count": 18,
   "metadata": {},
   "outputs": [
    {
     "data": {
      "text/plain": [
       "True"
      ]
     },
     "execution_count": 18,
     "metadata": {},
     "output_type": "execute_result"
    }
   ],
   "source": [
    "s1 = \"ab\" \n",
    "s2 = \"eidbaooo\"\n",
    "X.checkInclusion(s1,s2)"
   ]
  },
  {
   "cell_type": "code",
   "execution_count": null,
   "metadata": {},
   "outputs": [],
   "source": []
  }
 ],
 "metadata": {
  "kernelspec": {
   "display_name": "Python 3",
   "language": "python",
   "name": "python3"
  },
  "language_info": {
   "codemirror_mode": {
    "name": "ipython",
    "version": 3
   },
   "file_extension": ".py",
   "mimetype": "text/x-python",
   "name": "python",
   "nbconvert_exporter": "python",
   "pygments_lexer": "ipython3",
   "version": "3.7.4"
  }
 },
 "nbformat": 4,
 "nbformat_minor": 2
}
