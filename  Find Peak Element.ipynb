{
 "cells": [
  {
   "cell_type": "markdown",
   "metadata": {},
   "source": [
    "A peak element is an element that is greater than its neighbors.\n",
    "\n",
    "Given an input array nums, where nums[i] ≠ nums[i+1], find a peak element and return its index.\n",
    "\n",
    "The array may contain multiple peaks, in that case return the index to any one of the peaks is fine.\n",
    "\n",
    "You may imagine that nums[-1] = nums[n] = -∞.\n",
    "\n",
    "<b>Example 1:</b>"
   ]
  },
  {
   "cell_type": "raw",
   "metadata": {},
   "source": [
    "Input: nums = [1,2,3,1]\n",
    "Output: 2\n",
    "Explanation: 3 is a peak element and your function should return the index number 2."
   ]
  },
  {
   "cell_type": "markdown",
   "metadata": {},
   "source": [
    "<b>Example 1:</b>"
   ]
  },
  {
   "cell_type": "raw",
   "metadata": {},
   "source": [
    "Input: nums = [1,2,1,3,5,6,4]\n",
    "Output: 1 or 5 \n",
    "Explanation: Your function can return either index number 1 where the peak element is 2, \n",
    "             or index number 5 where the peak element is 6."
   ]
  },
  {
   "cell_type": "markdown",
   "metadata": {},
   "source": [
    "##### Note:\n",
    "\n",
    "Your solution should be in logarithmic complexity."
   ]
  },
  {
   "cell_type": "code",
   "execution_count": 6,
   "metadata": {},
   "outputs": [
    {
     "data": {
      "text/plain": [
       "5"
      ]
     },
     "execution_count": 6,
     "metadata": {},
     "output_type": "execute_result"
    }
   ],
   "source": [
    "def findPeakElement(nums):\n",
    "        \n",
    "        return nums.index(max(nums))\n",
    "\n",
    "    \n",
    "    \n",
    "nums = [1,2,1,3,5,6,4]\n",
    "findPeakElement(nums)"
   ]
  },
  {
   "cell_type": "code",
   "execution_count": null,
   "metadata": {},
   "outputs": [],
   "source": [
    "class Solution:\n",
    "\tdef findPeakElement(self, nums: List[int]) -> int:\n",
    "\n",
    "\t\t# Handling  edge cases\n",
    "\t\t\n",
    "\t\t#An array cannot contain peak if it has less than two elements\n",
    "\t\t\n",
    "\t\tif len(nums) < 2: return 0 \n",
    "\t\t\n",
    "\t\t#If the length of the array is 2 the only way it will have a peak is if the first element is larger than the second.\n",
    "\t\t\n",
    "\t\tif len(nums) == 2: \n",
    "\t\t\tif nums[1] > nums[0]:\n",
    "\t\t\t\treturn 1\n",
    "\t\t\telse:\n",
    "\t\t\t\treturn 0\n",
    "\n",
    "\t\t# binary search on the remaining array.\n",
    "\n",
    "\t\tlow = 0\n",
    "\t\thigh = len(nums) -1\n",
    "\n",
    "\t\twhile low < high:\n",
    "\t\t\tmid = int( (low+high)/2 )\n",
    "\n",
    "\t\t\tif nums[mid] < nums[mid+1]:\n",
    "\t\t\t\tlow = mid +1\n",
    "\t\t\telif nums[mid] < nums[mid-1]:\n",
    "\t\t\t\thigh = mid -1\n",
    "\t\t\telif nums[mid] > nums[mid+1] and nums[mid] > nums[mid-1]:\n",
    "\t\t\t\treturn mid\n",
    "\n",
    "\t\treturn low"
   ]
  }
 ],
 "metadata": {
  "kernelspec": {
   "display_name": "Python 3",
   "language": "python",
   "name": "python3"
  },
  "language_info": {
   "codemirror_mode": {
    "name": "ipython",
    "version": 3
   },
   "file_extension": ".py",
   "mimetype": "text/x-python",
   "name": "python",
   "nbconvert_exporter": "python",
   "pygments_lexer": "ipython3",
   "version": "3.7.4"
  }
 },
 "nbformat": 4,
 "nbformat_minor": 2
}
