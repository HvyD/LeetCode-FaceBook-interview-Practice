{
 "cells": [
  {
   "cell_type": "markdown",
   "metadata": {},
   "source": [
    "There are n bulbs that are initially off. You first turn on all the bulbs. Then, you turn off every second bulb. On the third round, you toggle every third bulb (turning on if it's off or turning off if it's on). For the i-th round, you toggle every i bulb. For the n-th round, you only toggle the last bulb. Find how many bulbs are on after n rounds.\n",
    "\n",
    "### Example:\n",
    "\n",
    "##### Input: 3\n",
    "    \n",
    "##### Output: 1 \n",
    "    \n",
    "### Explanation: \n",
    "    At first, the three bulbs are [off, off, off].\n",
    "    After first round, the three bulbs are [on, on, on].\n",
    "    After second round, the three bulbs are [on, off, on].\n",
    "    After third round, the three bulbs are [on, off, off]. \n",
    "\n",
    "    So you should return 1, because there is only one bulb is on."
   ]
  },
  {
   "cell_type": "code",
   "execution_count": 1,
   "metadata": {},
   "outputs": [],
   "source": [
    "class Solution(object):\n",
    "    def bulbSwitch(self, n):\n",
    "      \n",
    "        i=0\n",
    "        while i*i<=n:\n",
    "            i+=1\n",
    "        return i-1"
   ]
  },
  {
   "cell_type": "code",
   "execution_count": 19,
   "metadata": {},
   "outputs": [
    {
     "data": {
      "text/plain": [
       "1"
      ]
     },
     "execution_count": 19,
     "metadata": {},
     "output_type": "execute_result"
    }
   ],
   "source": [
    "S = Solution()\n",
    "n = 3\n",
    "S.bulbSwitch(n)"
   ]
  }
 ],
 "metadata": {
  "kernelspec": {
   "display_name": "Python 3",
   "language": "python",
   "name": "python3"
  },
  "language_info": {
   "codemirror_mode": {
    "name": "ipython",
    "version": 3
   },
   "file_extension": ".py",
   "mimetype": "text/x-python",
   "name": "python",
   "nbconvert_exporter": "python",
   "pygments_lexer": "ipython3",
   "version": "3.7.4"
  }
 },
 "nbformat": 4,
 "nbformat_minor": 2
}
