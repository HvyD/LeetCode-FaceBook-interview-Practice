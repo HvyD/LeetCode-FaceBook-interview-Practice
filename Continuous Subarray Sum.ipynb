{
 "cells": [
  {
   "cell_type": "markdown",
   "metadata": {},
   "source": [
    "Given a list of non-negative numbers and a target integer k, write a function to check if the array has a continuous subarray of size at least 2 that sums up to a multiple of k, that is, sums up to n*k where n is also an integer.\n",
    "\n",
    " \n",
    "\n",
    "#### Example 1:"
   ]
  },
  {
   "cell_type": "raw",
   "metadata": {},
   "source": [
    "Input: [23, 2, 4, 6, 7],  k=6\n",
    "Output: True\n",
    "Explanation: Because [2, 4] is a continuous subarray of size 2 and sums up to 6."
   ]
  },
  {
   "cell_type": "markdown",
   "metadata": {},
   "source": [
    "#### Example 2:"
   ]
  },
  {
   "cell_type": "raw",
   "metadata": {},
   "source": [
    "Input: [23, 2, 6, 4, 7],  k=6\n",
    "Output: True\n",
    "Explanation: Because [23, 2, 6, 4, 7] is an continuous subarray of size 5 and sums up to 42."
   ]
  },
  {
   "cell_type": "code",
   "execution_count": 2,
   "metadata": {},
   "outputs": [],
   "source": [
    "class Solution:\n",
    "    def checkSubarraySum(self, nums, k):\n",
    "        if len(nums) < 2:\n",
    "            return False\n",
    "        prefixSum, curSum, lastSum = set([0]), nums[0], 0\n",
    "        for num in nums[1:]:\n",
    "            lastSum = curSum if k == 0 else curSum%k\n",
    "            curSum += num\n",
    "            prefix = curSum % k if k != 0 else curSum\n",
    "            if prefix in prefixSum:\n",
    "                return True\n",
    "            prefixSum.add(lastSum)\n",
    "        return False"
   ]
  },
  {
   "cell_type": "code",
   "execution_count": 3,
   "metadata": {},
   "outputs": [
    {
     "data": {
      "text/plain": [
       "True"
      ]
     },
     "execution_count": 3,
     "metadata": {},
     "output_type": "execute_result"
    }
   ],
   "source": [
    "nums = [23, 2, 4, 6, 7]\n",
    "k=6\n",
    "obj = Solution()\n",
    "obj.checkSubarraySum(nums, k)"
   ]
  },
  {
   "cell_type": "code",
   "execution_count": null,
   "metadata": {},
   "outputs": [],
   "source": []
  }
 ],
 "metadata": {
  "kernelspec": {
   "display_name": "Python 3",
   "language": "python",
   "name": "python3"
  },
  "language_info": {
   "codemirror_mode": {
    "name": "ipython",
    "version": 3
   },
   "file_extension": ".py",
   "mimetype": "text/x-python",
   "name": "python",
   "nbconvert_exporter": "python",
   "pygments_lexer": "ipython3",
   "version": "3.7.4"
  }
 },
 "nbformat": 4,
 "nbformat_minor": 2
}
