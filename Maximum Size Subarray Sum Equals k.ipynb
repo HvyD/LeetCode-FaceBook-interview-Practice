{
 "cells": [
  {
   "cell_type": "markdown",
   "metadata": {},
   "source": [
    "Given an array nums and a target value k, find the maximum length of a subarray that sums to k. If there isn't one, return 0 instead."
   ]
  },
  {
   "cell_type": "markdown",
   "metadata": {},
   "source": [
    "<b>Note:</b>\n",
    "The sum of the entire nums array is guaranteed to fit within the 32-bit signed integer range.\n",
    "\n",
    "<b>Example 1:</b>"
   ]
  },
  {
   "cell_type": "raw",
   "metadata": {},
   "source": [
    "Input: nums = [1, -1, 5, -2, 3], k = 3\n",
    "Output: 4 \n",
    "Explanation: The subarray [1, -1, 5, -2] sums to 3 and is the longest."
   ]
  },
  {
   "cell_type": "markdown",
   "metadata": {},
   "source": [
    "<b>Example 2:</b>"
   ]
  },
  {
   "cell_type": "raw",
   "metadata": {},
   "source": [
    "Input: nums = [-2, -1, 2, 1], k = 1\n",
    "Output: 2 \n",
    "Explanation: The subarray [-1, 2] sums to 1 and is the longest."
   ]
  },
  {
   "cell_type": "code",
   "execution_count": 1,
   "metadata": {},
   "outputs": [],
   "source": [
    "class Solution(object):\n",
    "    def maxSubArrayLen(self, nums, k):\n",
    "        \"\"\"\n",
    "        :type nums: List[int]\n",
    "        :type k: int\n",
    "        :rtype: int\n",
    "        \"\"\"\n",
    "        seen_sum = {0:0}\n",
    "        total_sum, largest_len = 0, 0\n",
    "        for i in range(len(nums)):\n",
    "            total_sum += nums[i]\n",
    "            if total_sum == k:\n",
    "                largest_len = i + 1\n",
    "            else: \n",
    "                required = total_sum - k\n",
    "                if required in seen_sum:\n",
    "                    largest_len = max(largest_len, i - seen_sum[required])\n",
    "            if total_sum not in seen_sum:\n",
    "                seen_sum[total_sum] = i\n",
    "        return largest_len\n"
   ]
  },
  {
   "cell_type": "code",
   "execution_count": null,
   "metadata": {},
   "outputs": [],
   "source": []
  }
 ],
 "metadata": {
  "kernelspec": {
   "display_name": "Python 3",
   "language": "python",
   "name": "python3"
  },
  "language_info": {
   "codemirror_mode": {
    "name": "ipython",
    "version": 3
   },
   "file_extension": ".py",
   "mimetype": "text/x-python",
   "name": "python",
   "nbconvert_exporter": "python",
   "pygments_lexer": "ipython3",
   "version": "3.7.4"
  }
 },
 "nbformat": 4,
 "nbformat_minor": 2
}
