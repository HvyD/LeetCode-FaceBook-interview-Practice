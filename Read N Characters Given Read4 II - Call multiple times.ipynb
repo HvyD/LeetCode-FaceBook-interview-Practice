{
 "cells": [
  {
   "cell_type": "markdown",
   "metadata": {},
   "source": [
    "Given a file and assume that you can only read the file using a given method read4, implement a method read to read n characters. <b>Your method read may be called multiple times.</b>\n",
    "\n",
    " \n",
    "\n",
    "#### Method read4:"
   ]
  },
  {
   "cell_type": "markdown",
   "metadata": {},
   "source": [
    "The API read4 reads 4 consecutive characters from the file, then writes those characters into the buffer array buf.\n",
    "\n",
    "The return value is the number of actual characters read.\n",
    "\n",
    "Note that read4() has its own file pointer, much like FILE *fp in C.\n",
    "\n",
    "#### Definition of read4:"
   ]
  },
  {
   "cell_type": "raw",
   "metadata": {},
   "source": [
    "    Parameter:  char[] buf\n",
    "    Returns:    int\n",
    "\n",
    "Note: buf[] is destination not source, the results from read4 will be copied to buf[]"
   ]
  },
  {
   "cell_type": "markdown",
   "metadata": {},
   "source": [
    "Below is a high level example of how read4 works:"
   ]
  },
  {
   "cell_type": "raw",
   "metadata": {},
   "source": [
    "File file(\"abcdefghijk\"); // File is \"abcdefghijk\", initially file pointer (fp) points to 'a'\n",
    "char[] buf = new char[4]; // Create buffer with enough space to store characters\n",
    "read4(buf); // read4 returns 4. Now buf = \"abcd\", fp points to 'e'\n",
    "read4(buf); // read4 returns 4. Now buf = \"efgh\", fp points to 'i'\n",
    "read4(buf); // read4 returns 3. Now buf = \"ijk\", fp points to end of file"
   ]
  },
  {
   "cell_type": "markdown",
   "metadata": {},
   "source": [
    "#### Method read:\n",
    "\n",
    "By using the read4 method, implement the method read that reads n characters from the file and store it in the buffer array buf. Consider that you cannot manipulate the file directly.\n",
    "\n",
    "The return value is the number of actual characters read.\n",
    "\n",
    "#### Definition of read:"
   ]
  },
  {
   "cell_type": "raw",
   "metadata": {},
   "source": [
    "Parameters:\tchar[] buf, int n\n",
    "    Returns:\tint\n",
    "\n",
    "Note: buf[] is destination not source, you will need to write the results to buf[]"
   ]
  },
  {
   "cell_type": "markdown",
   "metadata": {},
   "source": [
    "#### Example 1:"
   ]
  },
  {
   "cell_type": "raw",
   "metadata": {},
   "source": [
    "File file(\"abc\");\n",
    "Solution sol;\n",
    "// Assume buf is allocated and guaranteed to have enough space for storing all characters from the file.\n",
    "sol.read(buf, 1); // After calling your read method, buf should contain \"a\". We read a total of 1 character from the file, so return 1.\n",
    "sol.read(buf, 2); // Now buf should contain \"bc\". We read a total of 2 characters from the file, so return 2.\n",
    "sol.read(buf, 1); // We have reached the end of file, no more characters can be read. So return 0."
   ]
  },
  {
   "cell_type": "markdown",
   "metadata": {},
   "source": [
    "#### Example 2:"
   ]
  },
  {
   "cell_type": "raw",
   "metadata": {},
   "source": [
    "File file(\"abc\");\n",
    "Solution sol;\n",
    "sol.read(buf, 4); // After calling your read method, buf should contain \"abc\". We read a total of 3 characters from the file, so return 3.\n",
    "sol.read(buf, 1); // We have reached the end of file, no more characters can be read. So return 0."
   ]
  },
  {
   "cell_type": "markdown",
   "metadata": {},
   "source": [
    "#### Note:\n",
    "\n",
    "    Consider that you cannot manipulate the file directly, the file is only accesible for read4 but not for read.\n",
    "\n",
    "    The read function may be called multiple times.\n",
    "\n",
    "    Please remember to RESET your class variables declared in Solution, as static/class variables are persisted across multiple test cases. Please see here for more details.\n",
    "\n",
    "    You may assume the destination buffer array, buf, is guaranteed to have enough space for storing n characters.\n",
    "\n",
    "    It is guaranteed that in a given test case the same buffer buf is called by read."
   ]
  },
  {
   "cell_type": "code",
   "execution_count": 1,
   "metadata": {},
   "outputs": [],
   "source": [
    "\"\"\"\n",
    "The read4 API is already defined for you.\n",
    "\n",
    "    @param buf, a list of characters\n",
    "    @return an integer\n",
    "    def read4(buf):\n",
    "\n",
    "# Below is an example of how the read4 API can be called.\n",
    "file = File(\"abcdefghijk\") # File is \"abcdefghijk\", initially file pointer (fp) points to 'a'\n",
    "buf = [' '] * 4 # Create buffer with enough space to store characters\n",
    "read4(buf) # read4 returns 4. Now buf = ['a','b','c','d'], fp points to 'e'\n",
    "read4(buf) # read4 returns 4. Now buf = ['e','f','g','h'], fp points to 'i'\n",
    "read4(buf) # read4 returns 3. Now buf = ['i','j','k',...], fp points to end of file\n",
    "\"\"\"\n",
    "class Solution(object):\n",
    "\n",
    "    def __init__(self):\n",
    "        self.buf4 = [None] * 4\n",
    "        self.buf4len = 0\n",
    "\n",
    "    def read(self, buf, n):\n",
    "        i = 0\n",
    "        while i < n:\n",
    "            if not self.buf4len:\n",
    "                self.buf4len = read4(self.buf4)\n",
    "                if not self.buf4len:\n",
    "                    break\n",
    "            cur_size = min(n - i, self.buf4len)\n",
    "            buf[i:] = self.buf4[:cur_size]\n",
    "            i += cur_size\n",
    "            self.buf4[:self.buf4len-cur_size] = self.buf4[cur_size:self.buf4len]\n",
    "            self.buf4len = self.buf4len - cur_size\n",
    "\n"
   ]
  },
  {
   "cell_type": "code",
   "execution_count": null,
   "metadata": {},
   "outputs": [],
   "source": []
  }
 ],
 "metadata": {
  "kernelspec": {
   "display_name": "Python 3",
   "language": "python",
   "name": "python3"
  },
  "language_info": {
   "codemirror_mode": {
    "name": "ipython",
    "version": 3
   },
   "file_extension": ".py",
   "mimetype": "text/x-python",
   "name": "python",
   "nbconvert_exporter": "python",
   "pygments_lexer": "ipython3",
   "version": "3.7.4"
  }
 },
 "nbformat": 4,
 "nbformat_minor": 2
}
