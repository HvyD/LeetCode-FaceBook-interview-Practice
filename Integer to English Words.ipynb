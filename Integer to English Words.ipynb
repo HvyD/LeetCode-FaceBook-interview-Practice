{
 "cells": [
  {
   "cell_type": "markdown",
   "metadata": {},
   "source": [
    "Convert a non-negative integer to its english words representation. Given input is guaranteed to be less than 231 - 1."
   ]
  },
  {
   "cell_type": "markdown",
   "metadata": {},
   "source": [
    "##### Example 1:"
   ]
  },
  {
   "cell_type": "raw",
   "metadata": {},
   "source": [
    "Input: 123\n",
    "Output: \"One Hundred Twenty Three\""
   ]
  },
  {
   "cell_type": "markdown",
   "metadata": {},
   "source": [
    "##### Example 2:"
   ]
  },
  {
   "cell_type": "raw",
   "metadata": {},
   "source": [
    "Input: 12345\n",
    "Output: \"Twelve Thousand Three Hundred Forty Five\""
   ]
  },
  {
   "cell_type": "markdown",
   "metadata": {},
   "source": [
    "##### Example 3:"
   ]
  },
  {
   "cell_type": "raw",
   "metadata": {},
   "source": [
    "Input: 1234567\n",
    "Output: \"One Million Two Hundred Thirty Four Thousand Five Hundred Sixty Seven\""
   ]
  },
  {
   "cell_type": "markdown",
   "metadata": {},
   "source": [
    "##### Example 4:"
   ]
  },
  {
   "cell_type": "raw",
   "metadata": {},
   "source": [
    "Input: 1234567891\n",
    "Output: \"One Billion Two Hundred Thirty Four Million Five Hundred Sixty Seven Thousand Eight Hundred Ninety One\""
   ]
  },
  {
   "cell_type": "code",
   "execution_count": 13,
   "metadata": {},
   "outputs": [],
   "source": [
    "class Solution:\n",
    "    def numberToWords(self, num):\n",
    "   \n",
    "        if num == 0:\n",
    "            return 'Zero'\n",
    "        ddict = {1: 'One', 2: 'Two', 3: \"Three\", 4: 'Four', 5: 'Five', 6: 'Six', 7: 'Seven', 8: 'Eight', 9: 'Nine',\n",
    "             10: 'Ten', 11: 'Eleven', 12: 'Twelve', 13: 'Thirteen', 14: 'Fourteen', 15:'Fifteen', 16: 'Sixteen',\n",
    "             17: 'Seventeen', 18: 'Eighteen', 19: 'Nineteen', 20: 'Twenty', 30: 'Thirty', 40: 'Forty', 50: 'Fifty',\n",
    "             60: 'Sixty', 70: 'Seventy', 80: 'Eighty', 90: 'Ninety'}\n",
    "        base = [\"\", 'Thousand', 'Million', 'Billion']\n",
    "        result, exp = '', 1000\n",
    "        i, chunk = 0, 0\n",
    "        while num:\n",
    "            chunk = num % exp\n",
    "            if chunk:\n",
    "                result = base[i] + ' ' + result\n",
    "                one = chunk % 10\n",
    "                two = (chunk % 100) - one\n",
    "                three = chunk // 100\n",
    "                if two == 10:\n",
    "                    result = ddict[two+one] +' ' + result\n",
    "                else:\n",
    "                    if one:\n",
    "                        result = ddict[one] + ' ' + result\n",
    "                    if two:\n",
    "                        result = ddict[two] + ' ' +result\n",
    "                if three:\n",
    "                    result = ddict[three] + ' Hundred '  + result\n",
    "            num //= exp\n",
    "            i += 1\n",
    "        return result.rstrip()\n",
    "   "
   ]
  },
  {
   "cell_type": "code",
   "execution_count": 14,
   "metadata": {},
   "outputs": [
    {
     "data": {
      "text/plain": [
       "'One Billion Two Hundred Thirty Four Million Five Hundred Sixty Seven Thousand Eight Hundred Ninety One'"
      ]
     },
     "execution_count": 14,
     "metadata": {},
     "output_type": "execute_result"
    }
   ],
   "source": [
    "num = 1234567891\n",
    "X = Solution()\n",
    "X.numberToWords(num)"
   ]
  },
  {
   "cell_type": "code",
   "execution_count": 1,
   "metadata": {},
   "outputs": [],
   "source": [
    "class Solution:\n",
    "    def numberToWords(self, num: int) -> str:\n",
    "        Oneto19 = 'xx One Two Three Four Five Six Seven Eight Nine Ten Eleven Twelve Thirteen Fourteen Fifteen Sixteen Seventeen Eighteen Nineteen'.split()\n",
    "        tensMultiply = 'xx xx Twenty Thirty Forty Fifty Sixty Seventy Eighty Ninety'.split()\n",
    "        thousandMultiply = 'Thousand Million Billion'.split()\n",
    "        def word(num, idx=0):\n",
    "            if num == 0:\n",
    "                return []\n",
    "            if num < 20:\n",
    "                return [Oneto19[num]]\n",
    "            if num < 100:\n",
    "                return [tensMultiply[num//10]] + word(num%10)\n",
    "            if num < 1000:\n",
    "                return [Oneto19[num//100]] + ['Hundred'] + word(num%100)\n",
    "\n",
    "            p, r = num//1000, num%1000\n",
    "            space = [thousandMultiply[idx]] if p % 1000 !=0 else []\n",
    "            return  word(p, idx+1) + space + word(r)\n",
    "        return ' '.join(word(num)) or 'Zero'\n",
    "    \n"
   ]
  },
  {
   "cell_type": "code",
   "execution_count": 2,
   "metadata": {},
   "outputs": [
    {
     "data": {
      "text/plain": [
       "'One Billion Two Hundred Thirty Four Million Five Hundred Sixty Seven Thousand Eight Hundred Ninety One'"
      ]
     },
     "execution_count": 2,
     "metadata": {},
     "output_type": "execute_result"
    }
   ],
   "source": [
    "num = 1234567891\n",
    "X = Solution()\n",
    "X.numberToWords(num)"
   ]
  },
  {
   "cell_type": "code",
   "execution_count": null,
   "metadata": {},
   "outputs": [],
   "source": []
  }
 ],
 "metadata": {
  "kernelspec": {
   "display_name": "Python 3",
   "language": "python",
   "name": "python3"
  },
  "language_info": {
   "codemirror_mode": {
    "name": "ipython",
    "version": 3
   },
   "file_extension": ".py",
   "mimetype": "text/x-python",
   "name": "python",
   "nbconvert_exporter": "python",
   "pygments_lexer": "ipython3",
   "version": "3.7.4"
  }
 },
 "nbformat": 4,
 "nbformat_minor": 2
}
