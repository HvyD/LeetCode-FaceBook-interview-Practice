{
 "cells": [
  {
   "cell_type": "markdown",
   "metadata": {},
   "source": [
    "Given a string that contains only digits 0-9 and a target value, return all possibilities to add <b>binary</b> operators (not unary) +, -, or * between the digits so they evaluate to the target value.\n",
    "\n",
    "<b>Example 1:</b>"
   ]
  },
  {
   "cell_type": "raw",
   "metadata": {},
   "source": [
    "# Input: num = \"123\", target = 6\n",
    "Output: [\"1+2+3\", \"1*2*3\"] "
   ]
  },
  {
   "cell_type": "markdown",
   "metadata": {},
   "source": [
    "<b>Example 2:</b>"
   ]
  },
  {
   "cell_type": "raw",
   "metadata": {},
   "source": [
    "Input: num = \"232\", target = 8\n",
    "Output: [\"2*3+2\", \"2+3*2\"]"
   ]
  },
  {
   "cell_type": "markdown",
   "metadata": {},
   "source": [
    "<b>Example 3:</b>"
   ]
  },
  {
   "cell_type": "raw",
   "metadata": {},
   "source": [
    "Input: num = \"105\", target = 5\n",
    "Output: [\"1*0+5\",\"10-5\"]"
   ]
  },
  {
   "cell_type": "markdown",
   "metadata": {},
   "source": [
    "<b>Example 4:</b>"
   ]
  },
  {
   "cell_type": "raw",
   "metadata": {},
   "source": [
    "Input: num = \"00\", target = 0\n",
    "Output: [\"0+0\", \"0-0\", \"0*0\"]"
   ]
  },
  {
   "cell_type": "markdown",
   "metadata": {},
   "source": [
    "<b>Example 5:</b>"
   ]
  },
  {
   "cell_type": "raw",
   "metadata": {},
   "source": [
    "Input: num = \"3456237490\", target = 9191\n",
    "Output: []"
   ]
  },
  {
   "cell_type": "code",
   "execution_count": 12,
   "metadata": {},
   "outputs": [],
   "source": [
    "class Solution:\n",
    "    def addOperators(self, num, target):\n",
    "        res, self.target = [], target\n",
    "        for i in range(1,len(num)+1):\n",
    "            if i == 1 or (i > 1 and num[0] != \"0\"): # prevent \"00*\" as a number\n",
    "                self.dfs(num[i:], num[:i], int(num[:i]), int(num[:i]), res) # this step put first number in the string\n",
    "        return res\n",
    "\n",
    "    def dfs(self, num, temp, cur, last, res):\n",
    "        if not num:\n",
    "            if cur == self.target:\n",
    "                res.append(temp)\n",
    "            return\n",
    "        for i in range(1, len(num)+1):\n",
    "            val = num[:i]\n",
    "            if i == 1 or (i > 1 and num[0] != \"0\"): # prevent \"00*\" as a number\n",
    "                self.dfs(num[i:], temp + \"+\" + val, cur+int(val), int(val), res)\n",
    "                self.dfs(num[i:], temp + \"-\" + val, cur-int(val), -int(val), res)\n",
    "                self.dfs(num[i:], temp + \"*\" + val, cur-last+last*int(val), last*int(val), res)"
   ]
  },
  {
   "cell_type": "code",
   "execution_count": null,
   "metadata": {},
   "outputs": [],
   "source": []
  }
 ],
 "metadata": {
  "kernelspec": {
   "display_name": "Python 3",
   "language": "python",
   "name": "python3"
  },
  "language_info": {
   "codemirror_mode": {
    "name": "ipython",
    "version": 3
   },
   "file_extension": ".py",
   "mimetype": "text/x-python",
   "name": "python",
   "nbconvert_exporter": "python",
   "pygments_lexer": "ipython3",
   "version": "3.7.4"
  }
 },
 "nbformat": 4,
 "nbformat_minor": 2
}
