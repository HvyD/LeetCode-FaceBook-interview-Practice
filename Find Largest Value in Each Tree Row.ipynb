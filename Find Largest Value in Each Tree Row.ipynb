{
 "cells": [
  {
   "cell_type": "markdown",
   "metadata": {},
   "source": [
    "You need to find the largest value in each row of a binary tree.\n",
    "\n",
    "### Example:"
   ]
  },
  {
   "cell_type": "raw",
   "metadata": {},
   "source": [
    "Input: \n",
    "\n",
    "          1\n",
    "         / \\\n",
    "        3   2\n",
    "       / \\   \\  \n",
    "      5   3   9 \n",
    "\n",
    "Output: [1, 3, 9]"
   ]
  },
  {
   "cell_type": "code",
   "execution_count": 3,
   "metadata": {},
   "outputs": [],
   "source": [
    "# Definition for a binary tree node\n",
    "class TreeNode:\n",
    "     def __init__(self, val=0, left=None, right=None):\n",
    "         self.val = val\n",
    "         self.left = left\n",
    "         self.right = right\n",
    "class Solution:\n",
    "    def largestValues(self, root):\n",
    "        from queue import Queue\n",
    "        \n",
    "        if not root:\n",
    "            return []\n",
    "        \n",
    "        queue, res = Queue(), [] \n",
    "        queue.put(root)\n",
    "        \n",
    "        while not queue.empty():\n",
    "            n_this_level, nodes =queue.qsize(), []\n",
    "        \n",
    "            for i in range(n_this_level):\n",
    "                node = queue.get()\n",
    "                nodes.append(node.val)"
   ]
  },
  {
   "cell_type": "code",
   "execution_count": null,
   "metadata": {},
   "outputs": [],
   "source": []
  }
 ],
 "metadata": {
  "kernelspec": {
   "display_name": "Python 3",
   "language": "python",
   "name": "python3"
  },
  "language_info": {
   "codemirror_mode": {
    "name": "ipython",
    "version": 3
   },
   "file_extension": ".py",
   "mimetype": "text/x-python",
   "name": "python",
   "nbconvert_exporter": "python",
   "pygments_lexer": "ipython3",
   "version": "3.7.4"
  }
 },
 "nbformat": 4,
 "nbformat_minor": 2
}
