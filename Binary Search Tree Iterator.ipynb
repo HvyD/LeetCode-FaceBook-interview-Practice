{
 "cells": [
  {
   "cell_type": "markdown",
   "metadata": {},
   "source": [
    "Implement an iterator over a binary search tree (BST). Your iterator will be initialized with the root node of a BST.\n",
    "\n",
    "Calling next() will return the next smallest number in the BST.\n",
    "\n",
    " \n",
    "\n",
    "#### Example:"
   ]
  },
  {
   "cell_type": "markdown",
   "metadata": {},
   "source": [
    "![image](https://assets.leetcode.com/uploads/2018/12/25/bst-tree.png)"
   ]
  },
  {
   "cell_type": "raw",
   "metadata": {},
   "source": [
    "BSTIterator iterator = new BSTIterator(root);\n",
    "iterator.next();    // return 3\n",
    "iterator.next();    // return 7\n",
    "iterator.hasNext(); // return true\n",
    "iterator.next();    // return 9\n",
    "iterator.hasNext(); // return true\n",
    "iterator.next();    // return 15\n",
    "iterator.hasNext(); // return true\n",
    "iterator.next();    // return 20\n",
    "iterator.hasNext(); // return false"
   ]
  },
  {
   "cell_type": "markdown",
   "metadata": {},
   "source": [
    "#### Note:\n",
    "\n",
    "    next() and hasNext() should run in average O(1) time and uses O(h) memory, where h is the height of the tree.\n",
    "    \n",
    "    You may assume that next() call will always be valid, that is, there will be at least a next smallest number in the BST when next() is called."
   ]
  },
  {
   "cell_type": "code",
   "execution_count": null,
   "metadata": {},
   "outputs": [],
   "source": [
    "# Definition for a binary tree node.\n",
    "# class TreeNode:\n",
    "#     def __init__(self, x):\n",
    "#         self.val = x\n",
    "#         self.left = None\n",
    "#         self.right = None\n",
    "\n",
    "class BSTIterator:\n",
    "\n",
    "    def __init__(self, root: TreeNode):\n",
    "        # build internal array\n",
    "        self.arr = self.recurse(root)\n",
    "        self.cur = 0\n",
    "\n",
    "    def recurse(self, root: TreeNode):\n",
    "        if root is None: \n",
    "            return []\n",
    "        return self.recurse(root.left) + [ root.val ] + self.recurse(root.right)\n",
    "\n",
    "    def next(self) -> int:\n",
    "        self.cur += 1\n",
    "        return self.arr[self.cur - 1]\n",
    "\n",
    "    def hasNext(self) -> bool:\n",
    "        return self.cur < len(self.arr)\n",
    "        \n",
    "\n",
    "\n",
    "# Your BSTIterator object will be instantiated and called as such:\n",
    "# obj = BSTIterator(root)\n",
    "# param_1 = obj.next()\n",
    "# param_2 = obj.hasNext()"
   ]
  },
  {
   "cell_type": "code",
   "execution_count": null,
   "metadata": {},
   "outputs": [],
   "source": []
  }
 ],
 "metadata": {
  "kernelspec": {
   "display_name": "Python 3",
   "language": "python",
   "name": "python3"
  },
  "language_info": {
   "codemirror_mode": {
    "name": "ipython",
    "version": 3
   },
   "file_extension": ".py",
   "mimetype": "text/x-python",
   "name": "python",
   "nbconvert_exporter": "python",
   "pygments_lexer": "ipython3",
   "version": "3.7.4"
  }
 },
 "nbformat": 4,
 "nbformat_minor": 2
}
