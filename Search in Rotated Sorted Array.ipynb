{
 "cells": [
  {
   "cell_type": "markdown",
   "metadata": {},
   "source": [
    "Suppose an array sorted in ascending order is rotated at some pivot unknown to you beforehand.\n",
    "\n",
    "(i.e., [0,1,2,4,5,6,7] might become [4,5,6,7,0,1,2]).\n",
    "\n",
    "You are given a target value to search. If found in the array return its index, otherwise return -1.\n",
    "\n",
    "You may assume no duplicate exists in the array.\n",
    "\n",
    "Your algorithm's runtime complexity must be in the order of O(log n).\n",
    "\n",
    "#### Example 1:"
   ]
  },
  {
   "cell_type": "raw",
   "metadata": {},
   "source": [
    "Input: nums = [4,5,6,7,0,1,2], target = 0\n",
    "Output: 4"
   ]
  },
  {
   "cell_type": "markdown",
   "metadata": {},
   "source": [
    "#### Example 2:"
   ]
  },
  {
   "cell_type": "raw",
   "metadata": {},
   "source": [
    "Input: nums = [4,5,6,7,0,1,2], target = 3\n",
    "Output: -1"
   ]
  },
  {
   "cell_type": "code",
   "execution_count": 2,
   "metadata": {},
   "outputs": [],
   "source": [
    "class Solution:\n",
    "    def search(self, nums, target):\n",
    "        crossOver = False\n",
    "        for i in range(len(nums)):\n",
    "            if nums[i] > target:\n",
    "                if crossOver:\n",
    "                    return -1\n",
    "                continue\n",
    "            if nums[i] < target:\n",
    "                crossOver = True\n",
    "            else:\n",
    "                return i\n",
    "        return -1\n",
    "            "
   ]
  },
  {
   "cell_type": "code",
   "execution_count": 3,
   "metadata": {},
   "outputs": [
    {
     "data": {
      "text/plain": [
       "4"
      ]
     },
     "execution_count": 3,
     "metadata": {},
     "output_type": "execute_result"
    }
   ],
   "source": [
    "nums = [4,5,6,7,0,1,2]\n",
    "target = 0\n",
    "\n",
    "obj = Solution()\n",
    "obj.search(nums, target)"
   ]
  },
  {
   "cell_type": "code",
   "execution_count": null,
   "metadata": {},
   "outputs": [],
   "source": []
  }
 ],
 "metadata": {
  "kernelspec": {
   "display_name": "Python 3",
   "language": "python",
   "name": "python3"
  },
  "language_info": {
   "codemirror_mode": {
    "name": "ipython",
    "version": 3
   },
   "file_extension": ".py",
   "mimetype": "text/x-python",
   "name": "python",
   "nbconvert_exporter": "python",
   "pygments_lexer": "ipython3",
   "version": "3.7.4"
  }
 },
 "nbformat": 4,
 "nbformat_minor": 2
}
