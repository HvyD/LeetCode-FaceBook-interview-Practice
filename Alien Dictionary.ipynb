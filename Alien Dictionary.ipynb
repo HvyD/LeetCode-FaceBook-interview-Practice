{
 "cells": [
  {
   "cell_type": "markdown",
   "metadata": {},
   "source": [
    "There is a new alien language which uses the latin alphabet. However, the order among letters are unknown to you. You receive a list of non-empty words from the dictionary, where words are sorted lexicographically by the rules of this new language. Derive the order of letters in this language.\n",
    "\n",
    "#### Example 1:"
   ]
  },
  {
   "cell_type": "raw",
   "metadata": {},
   "source": [
    "Input:\n",
    "[\n",
    "  \"wrt\",\n",
    "  \"wrf\",\n",
    "  \"er\",\n",
    "  \"ett\",\n",
    "  \"rftt\"\n",
    "]\n",
    "\n",
    "Output: \"wertf\""
   ]
  },
  {
   "cell_type": "markdown",
   "metadata": {},
   "source": [
    "#### Example 2:"
   ]
  },
  {
   "cell_type": "raw",
   "metadata": {},
   "source": [
    "Input:\n",
    "[\n",
    "  \"z\",\n",
    "  \"x\"\n",
    "]\n",
    "\n",
    "Output: \"zx\""
   ]
  },
  {
   "cell_type": "markdown",
   "metadata": {},
   "source": [
    "#### Example 3:"
   ]
  },
  {
   "cell_type": "raw",
   "metadata": {},
   "source": [
    "Input:\n",
    "[\n",
    "  \"z\",\n",
    "  \"x\",\n",
    "  \"z\"\n",
    "] \n",
    "\n",
    "Output: \"\" \n",
    "\n",
    "Explanation: The order is invalid, so return \"\"."
   ]
  },
  {
   "cell_type": "markdown",
   "metadata": {},
   "source": [
    "#### Note:\n",
    "\n",
    "    1. You may assume all letters are in lowercase.\n",
    "    2. You may assume that if a is a prefix of b, then a must appear before b in the given dictionary.\n",
    "    3. If the order is invalid, return an empty string.\n",
    "    4. There may be multiple valid order of letters, return any one of them is fine."
   ]
  },
  {
   "cell_type": "code",
   "execution_count": 7,
   "metadata": {},
   "outputs": [],
   "source": [
    "import collections\n",
    "\n",
    "class Solution:\n",
    "    def alienOrder(words):\n",
    "        \"\"\"\n",
    "        :type words: List[str]\n",
    "        :rtype: str\n",
    "        \"\"\"\n",
    "        # approach: topological sort\n",
    "        pre = collections.defaultdict(set)\n",
    "        suc = collections.defaultdict(set)\n",
    "        \n",
    "        # extract ordered pairs from word:\n",
    "        for pair in zip(words, words[1:]):\n",
    "            for a, b in zip(*pair):\n",
    "                if a != b:\n",
    "                    pre[b].add(a)\n",
    "                    suc[a].add(b)\n",
    "                    break\n",
    "        \n",
    "        # topological sort\n",
    "        order = []\n",
    "        alphabet = set(''.join(words))\n",
    "        notfree = set([ch for ch, preSet in pre.items() if len(preSet) > 0])\n",
    "        queue = collections.deque(alphabet-notfree)\n",
    "        while queue:\n",
    "            free = queue.pop()\n",
    "            order.append(free)\n",
    "            for neighbor in suc[free]:\n",
    "                pre[neighbor].discard(free)\n",
    "                if len(pre[neighbor]) == 0:\n",
    "                    queue.append(neighbor)\n",
    "                    \n",
    "        return \"\".join(order * (set(order) == alphabet)) # return empty string if invalid"
   ]
  },
  {
   "cell_type": "code",
   "execution_count": 8,
   "metadata": {},
   "outputs": [
    {
     "data": {
      "text/plain": [
       "'wertf'"
      ]
     },
     "execution_count": 8,
     "metadata": {},
     "output_type": "execute_result"
    }
   ],
   "source": [
    "words = [\n",
    "  \"wrt\",\n",
    "  \"wrf\",\n",
    "  \"er\",\n",
    "  \"ett\",\n",
    "  \"rftt\"\n",
    "]\n",
    "\n",
    "Solution.alienOrder(words)"
   ]
  },
  {
   "cell_type": "code",
   "execution_count": null,
   "metadata": {},
   "outputs": [],
   "source": []
  }
 ],
 "metadata": {
  "kernelspec": {
   "display_name": "Python 3",
   "language": "python",
   "name": "python3"
  },
  "language_info": {
   "codemirror_mode": {
    "name": "ipython",
    "version": 3
   },
   "file_extension": ".py",
   "mimetype": "text/x-python",
   "name": "python",
   "nbconvert_exporter": "python",
   "pygments_lexer": "ipython3",
   "version": "3.7.4"
  }
 },
 "nbformat": 4,
 "nbformat_minor": 2
}
