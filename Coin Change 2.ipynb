{
 "cells": [
  {
   "cell_type": "markdown",
   "metadata": {},
   "source": [
    "You are given coins of different denominations and a total amount of money. Write a function to compute the number of combinations that make up that amount. You may assume that you have infinite number of each kind of coin.\n",
    "\n",
    " \n",
    "\n",
    "#### Example 1:"
   ]
  },
  {
   "cell_type": "raw",
   "metadata": {},
   "source": [
    "Input: amount = 5, coins = [1, 2, 5]\n",
    "Output: 4\n",
    "Explanation: there are four ways to make up the amount:\n",
    "5=5\n",
    "5=2+2+1\n",
    "5=2+1+1+1\n",
    "5=1+1+1+1+1"
   ]
  },
  {
   "cell_type": "markdown",
   "metadata": {},
   "source": [
    "#### Example 2:"
   ]
  },
  {
   "cell_type": "raw",
   "metadata": {},
   "source": [
    "Input: amount = 3, coins = [2]\n",
    "Output: 0\n",
    "Explanation: the amount of 3 cannot be made up just with coins of 2."
   ]
  },
  {
   "cell_type": "markdown",
   "metadata": {},
   "source": [
    "#### Example 3:"
   ]
  },
  {
   "cell_type": "raw",
   "metadata": {},
   "source": [
    "Input: amount = 10, coins = [10] \n",
    "Output: 1"
   ]
  },
  {
   "cell_type": "code",
   "execution_count": 2,
   "metadata": {},
   "outputs": [],
   "source": [
    "class Solution:\n",
    "    def change(self, amount, coins):\n",
    "        dp = [0] * (amount + 1)\n",
    "        dp[0] = 1\n",
    "        \n",
    "        for coin in coins:\n",
    "            for n in range(amount - coin + 1):\n",
    "                dp[n + coin] += dp[n]\n",
    "        return dp[amount]"
   ]
  },
  {
   "cell_type": "code",
   "execution_count": null,
   "metadata": {},
   "outputs": [],
   "source": []
  }
 ],
 "metadata": {
  "kernelspec": {
   "display_name": "Python 3",
   "language": "python",
   "name": "python3"
  },
  "language_info": {
   "codemirror_mode": {
    "name": "ipython",
    "version": 3
   },
   "file_extension": ".py",
   "mimetype": "text/x-python",
   "name": "python",
   "nbconvert_exporter": "python",
   "pygments_lexer": "ipython3",
   "version": "3.7.4"
  }
 },
 "nbformat": 4,
 "nbformat_minor": 2
}
