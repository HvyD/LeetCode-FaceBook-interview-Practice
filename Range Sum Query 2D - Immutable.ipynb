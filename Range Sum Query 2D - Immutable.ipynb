{
 "cells": [
  {
   "cell_type": "markdown",
   "metadata": {},
   "source": [
    "Given a 2D matrix matrix, find the sum of the elements inside the rectangle defined by its upper left corner (row1, col1) and lower right corner (row2, col2)."
   ]
  },
  {
   "cell_type": "markdown",
   "metadata": {},
   "source": [
    "#### Example:\n",
    "    Given matrix = [\n",
    "      [3, 0, 1, 4, 2],\n",
    "      [5, 6, 3, 2, 1],\n",
    "      [1, 2, 0, 1, 5],\n",
    "      [4, 1, 0, 1, 7],\n",
    "      [1, 0, 3, 0, 5]\n",
    "    ]\n",
    "\n",
    "    sumRegion(2, 1, 4, 3) -> 8\n",
    "    sumRegion(1, 1, 2, 2) -> 11\n",
    "    sumRegion(1, 2, 2, 4) -> 12\n",
    "\n",
    "##### Note:\n",
    "\n",
    "    1. You may assume that the matrix does not change.\n",
    "    2. There are many calls to sumRegion function.\n",
    "    3 .You may assume that row1 ≤ row2 and col1 ≤ col2."
   ]
  },
  {
   "cell_type": "code",
   "execution_count": 2,
   "metadata": {},
   "outputs": [],
   "source": [
    "class NumMatrix:\n",
    "\n",
    "    def __init__(self, matrix):\n",
    "        if not matrix:\n",
    "            self.dp = [[]]\n",
    "        else:\n",
    "            self.dp = [[0 for _ in range(len(matrix[0]))] for _ in range(len(matrix))]\n",
    "            self.dp[0][0] = matrix[0][0]\n",
    "            for i in range(1, len(matrix[0])):\n",
    "                self.dp[0][i] = matrix[0][i] + self.dp[0][i - 1]\n",
    "            for i in range(1, len(matrix)):\n",
    "                self.dp[i][0] = matrix[i][0] + self.dp[i - 1][0]\n",
    "            for i in range(1, len(self.dp)):\n",
    "                for j in range(1, len(self.dp[0])):\n",
    "                    self.dp[i][j] = matrix[i][j] + self.dp[i - 1][j] + self.dp[i][j - 1] - self.dp[i - 1][j - 1]\n",
    "    def sumRegion(self, row1: int, col1: int, row2: int, col2: int) -> int:\n",
    "        if not self.dp:\n",
    "            return 0\n",
    "        return self.dp[row2][col2] + (self.dp[row1 - 1][col1 - 1] if row1 - 1 >= 0 and col1 - 1 >= 0 else 0) - (self.dp[row1 - 1][col2] if row1 - 1 >= 0 else 0) - (self.dp[row2][col1 - 1] if col1 - 1 >= 0 else 0)\n",
    "\n",
    "\n",
    "# Your NumMatrix object will be instantiated and called as such:\n",
    "# obj = NumMatrix(matrix)\n",
    "# param_1 = obj.sumRegion(row1,col1,row2,col2)"
   ]
  },
  {
   "cell_type": "code",
   "execution_count": 6,
   "metadata": {},
   "outputs": [
    {
     "data": {
      "text/plain": [
       "8"
      ]
     },
     "execution_count": 6,
     "metadata": {},
     "output_type": "execute_result"
    }
   ],
   "source": [
    "matrix = [\n",
    "  [3, 0, 1, 4, 2],\n",
    "  [5, 6, 3, 2, 1],\n",
    "  [1, 2, 0, 1, 5],\n",
    "  [4, 1, 0, 1, 7],\n",
    "  [1, 0, 3, 0, 5]\n",
    "]\n",
    "obj = NumMatrix(matrix)\n",
    "obj.sumRegion(2, 1, 4, 3)"
   ]
  },
  {
   "cell_type": "code",
   "execution_count": 7,
   "metadata": {},
   "outputs": [
    {
     "data": {
      "text/plain": [
       "11"
      ]
     },
     "execution_count": 7,
     "metadata": {},
     "output_type": "execute_result"
    }
   ],
   "source": [
    "obj.sumRegion(1, 1, 2, 2) "
   ]
  },
  {
   "cell_type": "code",
   "execution_count": 8,
   "metadata": {},
   "outputs": [
    {
     "data": {
      "text/plain": [
       "12"
      ]
     },
     "execution_count": 8,
     "metadata": {},
     "output_type": "execute_result"
    }
   ],
   "source": [
    "obj.sumRegion(1, 2, 2, 4) "
   ]
  },
  {
   "cell_type": "code",
   "execution_count": null,
   "metadata": {},
   "outputs": [],
   "source": []
  }
 ],
 "metadata": {
  "kernelspec": {
   "display_name": "Python 3",
   "language": "python",
   "name": "python3"
  },
  "language_info": {
   "codemirror_mode": {
    "name": "ipython",
    "version": 3
   },
   "file_extension": ".py",
   "mimetype": "text/x-python",
   "name": "python",
   "nbconvert_exporter": "python",
   "pygments_lexer": "ipython3",
   "version": "3.7.4"
  }
 },
 "nbformat": 4,
 "nbformat_minor": 2
}
