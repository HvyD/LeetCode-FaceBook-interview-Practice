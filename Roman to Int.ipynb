{
 "cells": [
  {
   "cell_type": "code",
   "execution_count": 1,
   "metadata": {},
   "outputs": [],
   "source": [
    "class Solution:\n",
    "    def romanToInt(self, s: str) -> int:\n",
    "        roman_to_int = {\n",
    "            'M': 1000, \n",
    "            'D': 500, \n",
    "            'C': 100, \n",
    "            'L': 50, \n",
    "            'X': 10, \n",
    "            'V': 5, \n",
    "            'I': 1\n",
    "        }\n",
    "        \n",
    "        result = 0\n",
    "        prev_value = 0\n",
    "        for letter in s:\n",
    "            value = roman_to_int[letter]\n",
    "            result += value\n",
    "            if value > prev_value:\n",
    "                result -= 2 * prev_value\n",
    "            prev_value = value\n",
    "        return result"
   ]
  },
  {
   "cell_type": "code",
   "execution_count": null,
   "metadata": {},
   "outputs": [],
   "source": []
  }
 ],
 "metadata": {
  "kernelspec": {
   "display_name": "Python 3",
   "language": "python",
   "name": "python3"
  },
  "language_info": {
   "codemirror_mode": {
    "name": "ipython",
    "version": 3
   },
   "file_extension": ".py",
   "mimetype": "text/x-python",
   "name": "python",
   "nbconvert_exporter": "python",
   "pygments_lexer": "ipython3",
   "version": "3.7.4"
  }
 },
 "nbformat": 4,
 "nbformat_minor": 2
}
