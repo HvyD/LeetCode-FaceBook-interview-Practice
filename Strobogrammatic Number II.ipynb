{
 "cells": [
  {
   "cell_type": "markdown",
   "metadata": {},
   "source": [
    "A strobogrammatic number is a number that looks the same when rotated 180 degrees (looked at upside down).\n",
    "\n",
    "Find all strobogrammatic numbers that are of length = n.\n",
    "\n",
    "#### Example:"
   ]
  },
  {
   "cell_type": "raw",
   "metadata": {},
   "source": [
    "Input:  n = 2\n",
    "Output: [\"11\",\"69\",\"88\",\"96\"]"
   ]
  },
  {
   "cell_type": "code",
   "execution_count": 1,
   "metadata": {},
   "outputs": [],
   "source": [
    "class Solution(object):\n",
    "    def findStrobogrammatic(self, n):\n",
    "        \n",
    "        d = {\"0\":\"0\", \"1\":\"1\", \"6\":\"9\", \"8\":\"8\", \"9\":\"6\"}\n",
    "        ret = []\n",
    "        \n",
    "        def dfs(s):\n",
    "            if len(s) == n: \n",
    "                ret.append(s)\n",
    "            else:\n",
    "                for x in [\"1\", \"6\", \"8\", \"9\"] if len(s) == n - 2 else d: \n",
    "                    dfs(x+s+d[x])\n",
    "        \n",
    "        for s in [\"0\", \"1\", \"8\"] if n % 2 else [\"\"]: \n",
    "            dfs(s)\n",
    "        return ret"
   ]
  },
  {
   "cell_type": "code",
   "execution_count": 3,
   "metadata": {},
   "outputs": [
    {
     "data": {
      "text/plain": [
       "['11', '69', '88', '96']"
      ]
     },
     "execution_count": 3,
     "metadata": {},
     "output_type": "execute_result"
    }
   ],
   "source": [
    "n = 2\n",
    "obj = Solution()\n",
    "obj.findStrobogrammatic(n)"
   ]
  },
  {
   "cell_type": "code",
   "execution_count": null,
   "metadata": {},
   "outputs": [],
   "source": []
  }
 ],
 "metadata": {
  "kernelspec": {
   "display_name": "Python 3",
   "language": "python",
   "name": "python3"
  },
  "language_info": {
   "codemirror_mode": {
    "name": "ipython",
    "version": 3
   },
   "file_extension": ".py",
   "mimetype": "text/x-python",
   "name": "python",
   "nbconvert_exporter": "python",
   "pygments_lexer": "ipython3",
   "version": "3.7.4"
  }
 },
 "nbformat": 4,
 "nbformat_minor": 2
}
