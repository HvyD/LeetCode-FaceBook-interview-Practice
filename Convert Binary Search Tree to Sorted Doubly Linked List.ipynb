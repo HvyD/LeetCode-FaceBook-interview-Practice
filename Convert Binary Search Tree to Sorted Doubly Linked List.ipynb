{
 "cells": [
  {
   "cell_type": "markdown",
   "metadata": {},
   "source": [
    "Convert a <b>Binary Search Tree</b> to a <u>sorted</u>  <b>Circular Doubly-Linked List</b> in place.\n",
    "\n",
    "You can think of the left and right pointers as synonymous to the predecessor and successor pointers in a doubly-linked list. For a circular doubly linked list, the predecessor of the first element is the last element, and the successor of the last element is the first element.\n",
    "\n",
    "We want to do the transformation in place. After the transformation, the left pointer of the tree node should point to its predecessor, and the right pointer should point to its successor. You should return the pointer to the smallest element of the linked list.\n",
    "\n",
    " \n",
    "\n",
    "#### Example 1:"
   ]
  },
  {
   "cell_type": "markdown",
   "metadata": {},
   "source": [
    "![image](https://assets.leetcode.com/uploads/2018/10/12/bstdlloriginalbst.png)"
   ]
  },
  {
   "cell_type": "raw",
   "metadata": {},
   "source": [
    "Input: root = [4,2,5,1,3]\n",
    "\n",
    "\n",
    "Output: [1,2,3,4,5]\n",
    "\n",
    "Explanation: The figure below shows the transformed BST. The solid line indicates the successor relationship, while the dashed line means the predecessor relationship.\n"
   ]
  },
  {
   "cell_type": "markdown",
   "metadata": {},
   "source": [
    "![image](https://assets.leetcode.com/uploads/2018/10/12/bstdllreturnbst.png)"
   ]
  },
  {
   "cell_type": "markdown",
   "metadata": {},
   "source": [
    "### Example 2:"
   ]
  },
  {
   "cell_type": "raw",
   "metadata": {},
   "source": [
    "Input: root = [2,1,3]\n",
    "Output: [1,2,3]"
   ]
  },
  {
   "cell_type": "markdown",
   "metadata": {},
   "source": [
    "### Example 3:"
   ]
  },
  {
   "cell_type": "raw",
   "metadata": {},
   "source": [
    "Input: root = []\n",
    "Output: []\n",
    "Explanation: Input is an empty tree. Output is also an empty Linked List.\n"
   ]
  },
  {
   "cell_type": "markdown",
   "metadata": {},
   "source": [
    "### Example 4:"
   ]
  },
  {
   "cell_type": "raw",
   "metadata": {},
   "source": [
    "Input: root = [1]\n",
    "Output: [1]"
   ]
  },
  {
   "cell_type": "markdown",
   "metadata": {},
   "source": [
    "#### Constraints:\n",
    "\n",
    "    -1000 <= Node.val <= 1000\n",
    "    \n",
    "    Node.left.val < Node.val < Node.right.val\n",
    "\n",
    "    All values of Node.val are unique.\n",
    "\n",
    "    0 <= Number of Nodes <= 2000"
   ]
  },
  {
   "cell_type": "code",
   "execution_count": 5,
   "metadata": {},
   "outputs": [],
   "source": [
    "\"\"\"\"\n",
    "# Definition for a Node.\n",
    "class Node:\n",
    "    def __init__(self, val, left=None, right=None):\n",
    "        self.val = val\n",
    "        self.left = left\n",
    "\"\"\"\"\n",
    "class Solution:\n",
    "    def treeToDoublyList(self, root):\n",
    "        def dfs(root):\n",
    "            return dfs(root.left) + [root] + dfs(root.right) if root else []\n",
    "        queue = dfs(root)\n",
    "        if not queue: return None\n",
    "        for i in range(len(queue)):\n",
    "            queue[i].right = queue[(i + 1) % len(queue)]\n",
    "            queue[i].left = queue[(i - 1) % len(queue)]\n",
    "        return queue[0]"
   ]
  },
  {
   "cell_type": "code",
   "execution_count": null,
   "metadata": {},
   "outputs": [],
   "source": []
  }
 ],
 "metadata": {
  "kernelspec": {
   "display_name": "Python 3",
   "language": "python",
   "name": "python3"
  },
  "language_info": {
   "codemirror_mode": {
    "name": "ipython",
    "version": 3
   },
   "file_extension": ".py",
   "mimetype": "text/x-python",
   "name": "python",
   "nbconvert_exporter": "python",
   "pygments_lexer": "ipython3",
   "version": "3.7.4"
  }
 },
 "nbformat": 4,
 "nbformat_minor": 2
}
