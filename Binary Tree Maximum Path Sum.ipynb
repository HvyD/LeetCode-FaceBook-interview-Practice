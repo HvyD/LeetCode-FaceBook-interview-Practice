{
 "cells": [
  {
   "cell_type": "markdown",
   "metadata": {},
   "source": [
    "Given a non-empty binary tree, find the maximum path sum.\n",
    "\n",
    "For this problem, a path is defined as any sequence of nodes from some starting node to any node in the tree along the parent-child connections. The path must contain at least one node and does not need to go through the root.\n",
    "\n",
    "#### Example 1:"
   ]
  },
  {
   "cell_type": "raw",
   "metadata": {},
   "source": [
    "Input: [1,2,3]\n",
    "\n",
    "       1\n",
    "      / \\\n",
    "     2   3\n",
    "\n",
    "Output: 6"
   ]
  },
  {
   "cell_type": "markdown",
   "metadata": {},
   "source": [
    "#### Example 2:"
   ]
  },
  {
   "cell_type": "raw",
   "metadata": {},
   "source": [
    "Input: [-10,9,20,null,null,15,7]\n",
    "\n",
    "   -10\n",
    "   / \\\n",
    "  9  20\n",
    "    /  \\\n",
    "   15   7\n",
    "\n",
    "Output: 42"
   ]
  },
  {
   "cell_type": "code",
   "execution_count": 2,
   "metadata": {},
   "outputs": [],
   "source": [
    "class Solution:\n",
    "    def maxPathSum(self, root):\n",
    "        def rec(node):\n",
    "            \"\"\"Return maximum branch and maxmimum subtree for current node.\n",
    "            \n",
    "            If deriving branches and subtrees are negative,\n",
    "            at the very least return current node value as the maximum branch and subtree.\n",
    "            \n",
    "            If some deriving branches and subtrees are positive,\n",
    "            return the maximum possible.\n",
    "            \"\"\"\n",
    "            # non-existent nodes return -inf branches and subtrees\n",
    "            if node is None:\n",
    "                return float('-inf'), float('-inf')\n",
    "            \n",
    "            l_branch, l_subtree = rec(node.left)\n",
    "            r_branch, r_subtree = rec(node.right)\n",
    "            \n",
    "            return (\n",
    "                # current node + maximum branch,\n",
    "                # or just current node if both branches are negative\n",
    "                node.val + max(0, l_branch, r_branch),\n",
    "                \n",
    "                # maximum subtree, which can be:\n",
    "                # - maximum subtree NOT including current node\n",
    "                # - current node and both branches\n",
    "                #   (or 0 for each branch if branch is negative)\n",
    "                max(l_subtree, r_subtree, node.val+max(0, l_branch)+max(0, r_branch)))\n",
    "        \n",
    "        return max(rec(root))"
   ]
  },
  {
   "cell_type": "code",
   "execution_count": null,
   "metadata": {},
   "outputs": [],
   "source": []
  }
 ],
 "metadata": {
  "kernelspec": {
   "display_name": "Python 3",
   "language": "python",
   "name": "python3"
  },
  "language_info": {
   "codemirror_mode": {
    "name": "ipython",
    "version": 3
   },
   "file_extension": ".py",
   "mimetype": "text/x-python",
   "name": "python",
   "nbconvert_exporter": "python",
   "pygments_lexer": "ipython3",
   "version": "3.7.4"
  }
 },
 "nbformat": 4,
 "nbformat_minor": 2
}
