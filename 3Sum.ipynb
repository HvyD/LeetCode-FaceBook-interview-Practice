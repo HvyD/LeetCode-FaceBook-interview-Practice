{
 "cells": [
  {
   "cell_type": "markdown",
   "metadata": {},
   "source": [
    "Given an array nums of n integers, are there elements a, b, c in nums such that a + b + c = 0? Find all unique triplets in the array which gives the sum of zero.\n",
    "\n",
    "#### Note:\n",
    "\n",
    "The solution set must not contain duplicate triplets.\n",
    "\n",
    "#### Example:\n",
    "\n",
    "Given array nums = [-1, 0, 1, 2, -1, -4],\n",
    "\n",
    "A solution set is:\n",
    "[\n",
    "  [-1, 0, 1],\n",
    "  [-1, -1, 2]\n",
    "]"
   ]
  },
  {
   "cell_type": "code",
   "execution_count": 6,
   "metadata": {},
   "outputs": [],
   "source": [
    "class Solution(object):\n",
    "    def threeSum(self, nums):\n",
    "\n",
    "    \n",
    "        n = len(nums)\n",
    "        if n < 3:\n",
    "            return []\n",
    "    \n",
    "        nums.sort()\n",
    "    \n",
    "        triplets = set()\n",
    "    \n",
    "        for i in range(n-2):\n",
    "            a = nums[i]\n",
    "            index = set()\n",
    "            for j in range(i+1, n):\n",
    "                b = nums[j]\n",
    "                c = -a-b\n",
    "                if b not in index:\n",
    "                    index.add(c)\n",
    "                else:\n",
    "                    triplets.add((a,b,c))\n",
    "    \n",
    "        return map(list, triplets)"
   ]
  },
  {
   "cell_type": "code",
   "execution_count": null,
   "metadata": {},
   "outputs": [],
   "source": []
  }
 ],
 "metadata": {
  "kernelspec": {
   "display_name": "Python 3",
   "language": "python",
   "name": "python3"
  },
  "language_info": {
   "codemirror_mode": {
    "name": "ipython",
    "version": 3
   },
   "file_extension": ".py",
   "mimetype": "text/x-python",
   "name": "python",
   "nbconvert_exporter": "python",
   "pygments_lexer": "ipython3",
   "version": "3.7.4"
  }
 },
 "nbformat": 4,
 "nbformat_minor": 2
}
